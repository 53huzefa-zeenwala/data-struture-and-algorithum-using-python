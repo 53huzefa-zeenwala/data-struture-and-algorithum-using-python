{
 "cells": [
  {
   "cell_type": "code",
   "execution_count": 1,
   "id": "81d61c57",
   "metadata": {},
   "outputs": [],
   "source": [
    "\"\"\"Add a couple methods to our LinkedList class,\n",
    "and use that to implement a Stack.\n",
    "You have 4 functions below to fill in:\n",
    "insert_first, delete_first, push, and pop.\n",
    "Think about this while you're implementing:\n",
    "why is it easier to add an \"insert_first\"\n",
    "function than just use \"append\"?\"\"\"\n",
    "\n",
    "class Element(object):\n",
    "    def __init__(self, value):\n",
    "        self.value = value\n",
    "        self.next = None\n",
    "        \n",
    "class LinkedList(object):\n",
    "    def __init__(self, head=None):\n",
    "        self.head = head\n",
    "        \n",
    "    def append(self, new_element):\n",
    "        current = self.head\n",
    "        if self.head:\n",
    "            while current.next:\n",
    "                current = current.next\n",
    "            current.next = new_element\n",
    "        else:\n",
    "            self.head = new_element\n",
    "\n",
    "    def insert_first(self, new_element):\n",
    "        \"Insert new element as the head of the LinkedList\"\n",
    "        current = self.head\n",
    "        new_element.next = current\n",
    "        self.head = new_element\n",
    "\n",
    "    def delete_first(self):\n",
    "        \"Delete the first (head) element in the LinkedList as return it\"\n",
    "        current = self.head\n",
    "        self.head = current.next\n",
    "        return current\n",
    "\n",
    "class Stack(object):\n",
    "    def __init__(self,top=None):\n",
    "        self.ll = LinkedList(top)\n",
    "\n",
    "    def push(self, new_element):\n",
    "        \"Push (add) a new element onto the top of the stack\"\n",
    "        self.ll.insert_first(new_element)\n",
    "\n",
    "    def pop(self):\n",
    "        \"Pop (remove) the first element off the top of the stack and return it\"\n",
    "        return self.ll.delete_first()"
   ]
  },
  {
   "cell_type": "code",
   "execution_count": 2,
   "id": "773493dd",
   "metadata": {},
   "outputs": [],
   "source": [
    "# Test cases\n",
    "# Set up some Elements\n",
    "e1 = Element(1)\n",
    "e2 = Element(2)\n",
    "e3 = Element(3)\n",
    "e4 = Element(4)"
   ]
  },
  {
   "cell_type": "code",
   "execution_count": 3,
   "id": "4adc497f",
   "metadata": {},
   "outputs": [],
   "source": [
    "stack = Stack(e1)"
   ]
  },
  {
   "cell_type": "code",
   "execution_count": 4,
   "id": "39e1f5ac",
   "metadata": {},
   "outputs": [],
   "source": [
    "stack.push(e2)"
   ]
  },
  {
   "cell_type": "code",
   "execution_count": 5,
   "id": "ebaac4a2",
   "metadata": {},
   "outputs": [],
   "source": [
    "stack.push(e3)"
   ]
  },
  {
   "cell_type": "code",
   "execution_count": 6,
   "id": "8876128f",
   "metadata": {},
   "outputs": [
    {
     "data": {
      "text/plain": [
       "3"
      ]
     },
     "execution_count": 6,
     "metadata": {},
     "output_type": "execute_result"
    }
   ],
   "source": [
    "stack.ll.head.value"
   ]
  },
  {
   "cell_type": "code",
   "execution_count": 7,
   "id": "4c4c51f6",
   "metadata": {},
   "outputs": [
    {
     "data": {
      "text/plain": [
       "3"
      ]
     },
     "execution_count": 7,
     "metadata": {},
     "output_type": "execute_result"
    }
   ],
   "source": [
    "stack.pop().value"
   ]
  },
  {
   "cell_type": "code",
   "execution_count": 8,
   "id": "6fdb1358",
   "metadata": {},
   "outputs": [
    {
     "data": {
      "text/plain": [
       "2"
      ]
     },
     "execution_count": 8,
     "metadata": {},
     "output_type": "execute_result"
    }
   ],
   "source": [
    "stack.pop().value"
   ]
  },
  {
   "cell_type": "code",
   "execution_count": 9,
   "id": "afc4fc1f",
   "metadata": {
    "scrolled": true
   },
   "outputs": [
    {
     "data": {
      "text/plain": [
       "1"
      ]
     },
     "execution_count": 9,
     "metadata": {},
     "output_type": "execute_result"
    }
   ],
   "source": [
    "stack.pop().value\n"
   ]
  },
  {
   "cell_type": "code",
   "execution_count": 10,
   "id": "c5a9e242",
   "metadata": {},
   "outputs": [],
   "source": [
    "class Node(object):\n",
    "    def __init__(self, value):\n",
    "        self.value = value\n",
    "        self.edges = []\n",
    "\n",
    "class Edge(object):\n",
    "    def __init__(self, value, node_from, node_to):\n",
    "        self.value = value\n",
    "        self.node_from = node_from\n",
    "        self.node_to = node_to\n",
    "\n",
    "class Graph(object):\n",
    "    def __init__(self, nodes=[], edges=[]):\n",
    "        self.nodes = nodes\n",
    "        self.edges = edges\n",
    "\n",
    "    def insert_node(self, new_node_val):\n",
    "        new_node = Node(new_node_val)\n",
    "        self.nodes.append(new_node)\n",
    "        \n",
    "    def insert_edge(self, new_edge_val, node_from_val, node_to_val):\n",
    "        from_found = None\n",
    "        to_found = None\n",
    "        for node in self.nodes:\n",
    "            if node_from_val == node.value:\n",
    "                from_found = node\n",
    "            if node_to_val == node.value:\n",
    "                to_found = node\n",
    "        if from_found == None:\n",
    "            from_found = Node(node_from_val)\n",
    "            self.nodes.append(from_found)\n",
    "        if to_found == None:\n",
    "            to_found = Node(node_to_val)\n",
    "            self.nodes.append(to_found)\n",
    "        new_edge = Edge(new_edge_val, from_found, to_found)\n",
    "        from_found.edges.append(new_edge)\n",
    "        to_found.edges.append(new_edge)\n",
    "        self.edges.append(new_edge)\n",
    "\n",
    "    def get_edge_list(self):\n",
    "        \"\"\"Don't return a list of edge objects!\n",
    "        Return a list of triples that looks like this:\n",
    "        (Edge Value, From Node Value, To Node Value)\"\"\"\n",
    "        edges_list = []\n",
    "        for edge in self.edges:\n",
    "            ret_val = lambda node : node.value if node else None \n",
    "            arr = (edge.value, ret_val(edge.node_from), ret_val(edge.node_to))\n",
    "            edges_list.append(arr)\n",
    "        return edges_list\n",
    "\n",
    "    def get_adjacency_list(self):\n",
    "        \"\"\"Don't return any Node or Edge objects!\n",
    "        You'll return a list of lists.\n",
    "        The indecies of the outer list represent\n",
    "        \"from\" nodes.\n",
    "        Each section in the list will store a list\n",
    "        of tuples that looks like this:\n",
    "        (To Node, Edge Value)\"\"\"\n",
    "        adjacency_list = [None] * (len(self.nodes) + 1)\n",
    "        for edge in self.edges:\n",
    "            if adjacency_list[edge.node_from.value] == None:\n",
    "                adjacency_list[edge.node_from.value] = [(edge.node_to.value, edge.value)]\n",
    "            else:\n",
    "                adjacency_list[edge.node_from.value].append((edge.node_to.value, edge.value))\n",
    "        return adjacency_list\n",
    "    \n",
    "    def get_adjacency_matrix(self):\n",
    "        \"\"\"Return a matrix, or 2D list.\n",
    "        Row numbers represent from nodes,\n",
    "        column numbers represent to nodes.\n",
    "        Store the edge values in each spot,\n",
    "        and a 0 if no edge exists.\"\"\"\n",
    "        adjacency_matrix = [[0] * (len(self.nodes) + 1) for _ in range(len(self.nodes) + 1)]\n",
    "        for edge in self.edges:\n",
    "            adjacency_matrix[edge.node_from.value][edge.node_to.value] = edge.value\n",
    "        return adjacency_matrix\n",
    "\n",
    "graph = Graph()\n",
    "graph.insert_edge(100, 1, 2)\n",
    "graph.insert_edge(101, 1, 3)\n",
    "graph.insert_edge(102, 1, 4)\n",
    "graph.insert_edge(103, 3, 4)"
   ]
  },
  {
   "cell_type": "code",
   "execution_count": 11,
   "id": "8fb8a169",
   "metadata": {},
   "outputs": [
    {
     "data": {
      "text/plain": [
       "[(100, 1, 2), (101, 1, 3), (102, 1, 4), (103, 3, 4)]"
      ]
     },
     "execution_count": 11,
     "metadata": {},
     "output_type": "execute_result"
    }
   ],
   "source": [
    "graph.get_edge_list()"
   ]
  },
  {
   "cell_type": "code",
   "execution_count": 12,
   "id": "e4b3312f",
   "metadata": {},
   "outputs": [
    {
     "data": {
      "text/plain": [
       "[None, [(2, 100), (3, 101), (4, 102)], None, [(4, 103)], None]"
      ]
     },
     "execution_count": 12,
     "metadata": {},
     "output_type": "execute_result"
    }
   ],
   "source": [
    "graph.get_adjacency_list()"
   ]
  },
  {
   "cell_type": "code",
   "execution_count": 13,
   "id": "c7bcf16e",
   "metadata": {},
   "outputs": [
    {
     "data": {
      "text/plain": [
       "[[0, 0, 0, 0, 0],\n",
       " [0, 0, 100, 101, 102],\n",
       " [0, 0, 0, 0, 0],\n",
       " [0, 0, 0, 0, 103],\n",
       " [0, 0, 0, 0, 0]]"
      ]
     },
     "execution_count": 13,
     "metadata": {},
     "output_type": "execute_result"
    }
   ],
   "source": [
    "graph.get_adjacency_matrix()"
   ]
  },
  {
   "cell_type": "code",
   "execution_count": 14,
   "id": "31785c88",
   "metadata": {},
   "outputs": [],
   "source": [
    "arr = [[21, 43, 454], [46, 77,42], [35, 76, 54]]"
   ]
  },
  {
   "cell_type": "code",
   "execution_count": 15,
   "id": "2b5a24f5",
   "metadata": {},
   "outputs": [],
   "source": [
    "arr[1][2] = 33"
   ]
  },
  {
   "cell_type": "code",
   "execution_count": 16,
   "id": "dca306f0",
   "metadata": {},
   "outputs": [
    {
     "data": {
      "text/plain": [
       "[[21, 43, 454], [46, 77, 33], [35, 76, 54]]"
      ]
     },
     "execution_count": 16,
     "metadata": {},
     "output_type": "execute_result"
    }
   ],
   "source": [
    "arr"
   ]
  },
  {
   "cell_type": "code",
   "execution_count": 17,
   "id": "3544d6ca",
   "metadata": {},
   "outputs": [],
   "source": [
    "import pprint\n",
    "pp = pprint.PrettyPrinter(indent=2)"
   ]
  },
  {
   "cell_type": "code",
   "execution_count": 18,
   "id": "11351f5e",
   "metadata": {},
   "outputs": [],
   "source": [
    "class Node(object):\n",
    "    def __init__(self, value):\n",
    "        self.value = value\n",
    "        self.edges = []\n",
    "        self.visited = False\n",
    "\n",
    "class Edge(object):\n",
    "    def __init__(self, value, node_from, node_to):\n",
    "        self.value = value\n",
    "        self.node_from = node_from\n",
    "        self.node_to = node_to\n",
    "\n",
    "# You only need to change code with docs strings that have TODO.\n",
    "# Specifically: Graph.dfs_helper and Graph.bfs\n",
    "# New methods have been added to associate node numbers with names\n",
    "# Specifically: Graph.set_node_names\n",
    "# and the methods ending in \"_names\" which will print names instead\n",
    "# of node numbers\n",
    "\n",
    "class Graph(object):\n",
    "    def __init__(self, nodes=None, edges=None):\n",
    "        self.nodes = nodes or []\n",
    "        self.edges = edges or []\n",
    "        self.node_names = []\n",
    "        self._node_map = {}\n",
    "\n",
    "    def set_node_names(self, names):\n",
    "        \"\"\"The Nth name in names should correspond to node number N.\n",
    "        Node numbers are 0 based (starting at 0).\n",
    "        \"\"\"\n",
    "        self.node_names = list(names)\n",
    "\n",
    "    def insert_node(self, new_node_val):\n",
    "        \"Insert a new node with value new_node_val\"\n",
    "        new_node = Node(new_node_val)\n",
    "        self.nodes.append(new_node)\n",
    "        self._node_map[new_node_val] = new_node\n",
    "        return new_node\n",
    "\n",
    "    def insert_edge(self, new_edge_val, node_from_val, node_to_val):\n",
    "        \"Insert a new edge, creating new nodes if necessary\"\n",
    "        nodes = {node_from_val: None, node_to_val: None}\n",
    "        for node in self.nodes:\n",
    "            if node.value in nodes:\n",
    "                nodes[node.value] = node\n",
    "                if all(nodes.values()):\n",
    "                    break\n",
    "        for node_val in nodes:\n",
    "            nodes[node_val] = nodes[node_val] or self.insert_node(node_val)\n",
    "        node_from = nodes[node_from_val]\n",
    "        node_to = nodes[node_to_val]\n",
    "        new_edge = Edge(new_edge_val, node_from, node_to)\n",
    "        node_from.edges.append(new_edge)\n",
    "        node_to.edges.append(new_edge)\n",
    "        self.edges.append(new_edge)\n",
    "\n",
    "    def get_edge_list(self):\n",
    "        \"\"\"Return a list of triples that looks like this:\n",
    "        (Edge Value, From Node, To Node)\"\"\"\n",
    "        return [(e.value, e.node_from.value, e.node_to.value)\n",
    "                for e in self.edges]\n",
    "\n",
    "    def get_edge_list_names(self):\n",
    "        \"\"\"Return a list of triples that looks like this:\n",
    "        (Edge Value, From Node Name, To Node Name)\"\"\"\n",
    "        return [(edge.value,\n",
    "                 self.node_names[edge.node_from.value],\n",
    "                 self.node_names[edge.node_to.value])\n",
    "                for edge in self.edges]\n",
    "\n",
    "    def get_adjacency_list(self):\n",
    "        \"\"\"Return a list of lists.\n",
    "        The indecies of the outer list represent \"from\" nodes.\n",
    "        Each section in the list will store a list\n",
    "        of tuples that looks like this:\n",
    "        (To Node, Edge Value)\"\"\"\n",
    "        max_index = self.find_max_index()\n",
    "        adjacency_list = [[] for _ in range(max_index)]\n",
    "        for edg in self.edges:\n",
    "            from_value, to_value = edg.node_from.value, edg.node_to.value\n",
    "            adjacency_list[from_value].append((to_value, edg.value))\n",
    "        return [a or None for a in adjacency_list] # replace []'s with None\n",
    "\n",
    "    def get_adjacency_list_names(self):\n",
    "        \"\"\"Each section in the list will store a list\n",
    "        of tuples that looks like this:\n",
    "        (To Node Name, Edge Value).\n",
    "        Node names should come from the names set\n",
    "        with set_node_names.\"\"\"\n",
    "        adjacency_list = self.get_adjacency_list()\n",
    "        def convert_to_names(pair, graph=self):\n",
    "            node_number, value = pair\n",
    "            return (graph.node_names[node_number], value)\n",
    "        def map_conversion(adjacency_list_for_node):\n",
    "            if adjacency_list_for_node is None:\n",
    "                return None\n",
    "            return map(convert_to_names, adjacency_list_for_node)\n",
    "        return [map_conversion(adjacency_list_for_node)\n",
    "                for adjacency_list_for_node in adjacency_list]\n",
    "\n",
    "    def get_adjacency_matrix(self):\n",
    "        \"\"\"Return a matrix, or 2D list.\n",
    "        Row numbers represent from nodes,\n",
    "        column numbers represent to nodes.\n",
    "        Store the edge values in each spot,\n",
    "        and a 0 if no edge exists.\"\"\"\n",
    "        max_index = self.find_max_index()\n",
    "        adjacency_matrix = [[0] * (max_index) for _ in range(max_index)]\n",
    "        for edg in self.edges:\n",
    "            from_index, to_index = edg.node_from.value, edg.node_to.value\n",
    "            adjacency_matrix[from_index][to_index] = edg.value\n",
    "        return adjacency_matrix\n",
    "\n",
    "    def find_max_index(self):\n",
    "        \"\"\"Return the highest found node number\n",
    "        Or the length of the node names if set with set_node_names().\"\"\"\n",
    "        if len(self.node_names) > 0:\n",
    "            return len(self.node_names)\n",
    "        max_index = -1\n",
    "        if len(self.nodes):\n",
    "            for node in self.nodes:\n",
    "                if node.value > max_index:\n",
    "                    max_index = node.value\n",
    "        return max_index\n",
    "\n",
    "    def find_node(self, node_number):\n",
    "        \"Return the node with value node_number or None\"\n",
    "        return self._node_map.get(node_number)\n",
    "    \n",
    "    def _clear_visited(self):\n",
    "        for node in self.nodes:\n",
    "            node.visited = False\n",
    "\n",
    "    def dfs_helper(self, start_node):\n",
    "        \"\"\"TODO: Write the helper function for a recursive implementation\n",
    "        of Depth First Search iterating through a node's edges. The\n",
    "        output should be a list of numbers corresponding to the\n",
    "        values of the traversed nodes.\n",
    "        ARGUMENTS: start_node is the starting Node\n",
    "        MODIFIES: the value of the visited property of nodes in self.nodes \n",
    "        RETURN: a list of the traversed node values (integers).\n",
    "        \"\"\"\n",
    "        ret_list = []\n",
    "        # Your code here\n",
    "        if start_node.visited:\n",
    "            return\n",
    "        else:\n",
    "            ret_list.append(start_node.value)\n",
    "            start_node.visited = True\n",
    "            for edge in start_node.edges:\n",
    "                res = self.dfs_helper(edge.node_to)\n",
    "                if res:\n",
    "                    ret_list.extend(res)\n",
    "        return ret_list\n",
    "\n",
    "    def dfs(self, start_node_num):\n",
    "        \"\"\"Outputs a list of numbers corresponding to the traversed nodes\n",
    "        in a Depth First Search.\n",
    "        ARGUMENTS: start_node_num is the starting node number (integer)\n",
    "        MODIFIES: the value of the visited property of nodes in self.nodes\n",
    "        RETURN: a list of the node values (integers).\"\"\"\n",
    "        self._clear_visited()\n",
    "        start_node = self.find_node(start_node_num)\n",
    "        return self.dfs_helper(start_node)\n",
    "\n",
    "    def dfs_names(self, start_node_num):\n",
    "        \"\"\"Return the results of dfs with numbers converted to names.\"\"\"\n",
    "        return [self.node_names[num] for num in self.dfs(start_node_num)]\n",
    "\n",
    "    def bfs(self, start_node_num):\n",
    "        \"\"\"TODO: Create an iterative implementation of Breadth First Search\n",
    "        iterating through a node's edges. The output should be a list of\n",
    "        numbers corresponding to the traversed nodes.\n",
    "        ARGUMENTS: start_node_num is the node number (integer)\n",
    "        MODIFIES: the value of the visited property of nodes in self.nodes\n",
    "        RETURN: a list of the node values (integers).\"\"\"\n",
    "        node = self.find_node(start_node_num)\n",
    "        self._clear_visited()\n",
    "        ret_list = [node.value]\n",
    "        # Your code here\n",
    "        queue = [node]\n",
    "        node.visited = True\n",
    "        while queue != []:\n",
    "            for que_node in queue:\n",
    "                arr_queue = []\n",
    "                print(que_node.value)\n",
    "                queue.remove(que_node)\n",
    "                for edge in que_node.edges:\n",
    "                    if edge.node_to.visited:\n",
    "                        continue\n",
    "                    arr_queue.append(edge.node_to)\n",
    "                    ret_list.append(edge.node_to.value)\n",
    "                    edge.node_to.visited = True\n",
    "            if arr_queue:\n",
    "                queue.extend(arr_queue)\n",
    "        return ret_list\n",
    "\n",
    "    def bfs_names(self, start_node_num):\n",
    "        \"\"\"Return the results of bfs with numbers converted to names.\"\"\"\n",
    "        return [self.node_names[num] for num in self.bfs(start_node_num)]\n",
    "\n",
    "graph = Graph()\n",
    "\n",
    "# You do not need to change anything below this line.\n",
    "# You only need to implement Graph.dfs_helper and Graph.bfs\n",
    "\n",
    "graph.set_node_names(('Mountain View',   # 0\n",
    "                      'San Francisco',   # 1\n",
    "                      'London',          # 2\n",
    "                      'Shanghai',        # 3\n",
    "                      'Berlin',          # 4\n",
    "                      'Sao Paolo',       # 5\n",
    "                      'Bangalore'))      # 6 \n",
    "\n",
    "graph.insert_edge(51, 0, 1)     # MV <-> SF\n",
    "graph.insert_edge(51, 1, 0)     # SF <-> MV\n",
    "graph.insert_edge(9950, 0, 3)   # MV <-> Shanghai\n",
    "graph.insert_edge(9950, 3, 0)   # Shanghai <-> MV\n",
    "graph.insert_edge(10375, 0, 5)  # MV <-> Sao Paolo\n",
    "graph.insert_edge(10375, 5, 0)  # Sao Paolo <-> MV\n",
    "graph.insert_edge(9900, 1, 3)   # SF <-> Shanghai\n",
    "graph.insert_edge(9900, 3, 1)   # Shanghai <-> SF\n",
    "graph.insert_edge(9130, 1, 4)   # SF <-> Berlin\n",
    "graph.insert_edge(9130, 4, 1)   # Berlin <-> SF\n",
    "graph.insert_edge(9217, 2, 3)   # London <-> Shanghai\n",
    "graph.insert_edge(9217, 3, 2)   # Shanghai <-> London\n",
    "graph.insert_edge(932, 2, 4)    # London <-> Berlin\n",
    "graph.insert_edge(932, 4, 2)    # Berlin <-> London\n",
    "graph.insert_edge(9471, 2, 5)   # London <-> Sao Paolo\n",
    "graph.insert_edge(9471, 5, 2)   # Sao Paolo <-> London\n",
    "# (6) 'Bangalore' is intentionally disconnected (no edges)\n",
    "# for this problem and should produce None in the\n",
    "# Adjacency List, etc."
   ]
  },
  {
   "cell_type": "code",
   "execution_count": 19,
   "id": "5497d415",
   "metadata": {},
   "outputs": [
    {
     "name": "stdout",
     "output_type": "stream",
     "text": [
      "Edge List\n",
      "[ (51, 'Mountain View', 'San Francisco'),\n",
      "  (51, 'San Francisco', 'Mountain View'),\n",
      "  (9950, 'Mountain View', 'Shanghai'),\n",
      "  (9950, 'Shanghai', 'Mountain View'),\n",
      "  (10375, 'Mountain View', 'Sao Paolo'),\n",
      "  (10375, 'Sao Paolo', 'Mountain View'),\n",
      "  (9900, 'San Francisco', 'Shanghai'),\n",
      "  (9900, 'Shanghai', 'San Francisco'),\n",
      "  (9130, 'San Francisco', 'Berlin'),\n",
      "  (9130, 'Berlin', 'San Francisco'),\n",
      "  (9217, 'London', 'Shanghai'),\n",
      "  (9217, 'Shanghai', 'London'),\n",
      "  (932, 'London', 'Berlin'),\n",
      "  (932, 'Berlin', 'London'),\n",
      "  (9471, 'London', 'Sao Paolo'),\n",
      "  (9471, 'Sao Paolo', 'London')]\n"
     ]
    }
   ],
   "source": [
    "print(\"Edge List\")\n",
    "pp.pprint(graph.get_edge_list_names())"
   ]
  },
  {
   "cell_type": "code",
   "execution_count": 20,
   "id": "00236f32",
   "metadata": {},
   "outputs": [
    {
     "name": "stdout",
     "output_type": "stream",
     "text": [
      "\n",
      "Adjacency List\n",
      "<map object at 0x0000018F1FFCABC0>\n"
     ]
    }
   ],
   "source": [
    "print(\"\\nAdjacency List\")\n",
    "pp.pprint(graph.get_adjacency_list_names()[0])"
   ]
  },
  {
   "cell_type": "code",
   "execution_count": 21,
   "id": "48a50796",
   "metadata": {},
   "outputs": [
    {
     "name": "stdout",
     "output_type": "stream",
     "text": [
      "['London', 'Shanghai', 'Mountain View', 'San Francisco', 'Berlin', 'Sao Paolo']\n"
     ]
    }
   ],
   "source": [
    "pp.pprint(graph.dfs_names(2))"
   ]
  },
  {
   "cell_type": "code",
   "execution_count": 22,
   "id": "e0adce28",
   "metadata": {},
   "outputs": [],
   "source": [
    "arr = [1,4,5]"
   ]
  },
  {
   "cell_type": "code",
   "execution_count": 23,
   "id": "49078752",
   "metadata": {},
   "outputs": [],
   "source": [
    "arr.extend([5, 6])"
   ]
  },
  {
   "cell_type": "code",
   "execution_count": 24,
   "id": "643cd57b",
   "metadata": {},
   "outputs": [],
   "source": [
    "arr.remove(5)"
   ]
  },
  {
   "cell_type": "code",
   "execution_count": 25,
   "id": "ba9ebbc5",
   "metadata": {},
   "outputs": [],
   "source": [
    "arr.remove(1)"
   ]
  },
  {
   "cell_type": "code",
   "execution_count": 26,
   "id": "31ba7666",
   "metadata": {},
   "outputs": [
    {
     "data": {
      "text/plain": [
       "[4, 5, 6]"
      ]
     },
     "execution_count": 26,
     "metadata": {},
     "output_type": "execute_result"
    }
   ],
   "source": [
    "arr"
   ]
  },
  {
   "cell_type": "code",
   "execution_count": 27,
   "id": "0f04a794",
   "metadata": {},
   "outputs": [
    {
     "name": "stdout",
     "output_type": "stream",
     "text": [
      "2\n",
      "3\n",
      "5\n",
      "4\n",
      "['London', 'Shanghai', 'Berlin', 'Sao Paolo', 'Mountain View', 'San Francisco']\n"
     ]
    }
   ],
   "source": [
    "pp.pprint(graph.bfs_names(2))"
   ]
  },
  {
   "cell_type": "markdown",
   "id": "0f45e7ef",
   "metadata": {},
   "source": [
    "# Merge Sort algorithm"
   ]
  },
  {
   "cell_type": "code",
   "execution_count": 28,
   "id": "b9f4393c",
   "metadata": {},
   "outputs": [],
   "source": [
    "def merge(left_arr, right_arr):\n",
    "    result_arr = []\n",
    "    left_ind = 0\n",
    "    right_ind = 0\n",
    "    \n",
    "    while left_ind < len(left_arr) and right_ind < len(right_arr):\n",
    "        if left_arr[left_ind] > right_arr[right_ind]:\n",
    "            result_arr.append(right_arr[right_ind])\n",
    "            right_ind += 1\n",
    "        else:\n",
    "            result_arr.append(left_arr[left_ind])\n",
    "            left_ind += 1 \n",
    "            \n",
    "    result_arr.extend(left_arr[left_ind:])\n",
    "    result_arr.extend(right_arr[right_ind:])\n",
    "    return result_arr"
   ]
  },
  {
   "cell_type": "code",
   "execution_count": 29,
   "id": "73aedda2",
   "metadata": {},
   "outputs": [
    {
     "data": {
      "text/plain": [
       "[1, 2, 5, 6, 9, 11]"
      ]
     },
     "execution_count": 29,
     "metadata": {},
     "output_type": "execute_result"
    }
   ],
   "source": [
    "merge([1,5,6], [2, 9, 11])"
   ]
  },
  {
   "cell_type": "code",
   "execution_count": 30,
   "id": "676f021a",
   "metadata": {},
   "outputs": [],
   "source": [
    "def merge_sort(arr):\n",
    "    if len(arr) <= 1:\n",
    "        return arr\n",
    "    \n",
    "    mid_index = len(arr) // 2\n",
    "    left_arr = arr[0: mid_index]\n",
    "    right_arr = arr[mid_index:]\n",
    "    return merge(merge_sort(left_arr), merge_sort(right_arr))"
   ]
  },
  {
   "cell_type": "code",
   "execution_count": 31,
   "id": "a02d9fb8",
   "metadata": {
    "scrolled": true
   },
   "outputs": [
    {
     "data": {
      "text/plain": [
       "[1, 2, 6, 9, 11, 32]"
      ]
     },
     "execution_count": 31,
     "metadata": {},
     "output_type": "execute_result"
    }
   ],
   "source": [
    "merge_sort([1,32,6, 2, 9, 11])"
   ]
  },
  {
   "cell_type": "code",
   "execution_count": 32,
   "id": "35ecbd7f",
   "metadata": {},
   "outputs": [
    {
     "data": {
      "text/plain": [
       "0"
      ]
     },
     "execution_count": 32,
     "metadata": {},
     "output_type": "execute_result"
    }
   ],
   "source": [
    "2 // 2 -1"
   ]
  },
  {
   "cell_type": "markdown",
   "id": "ccb631ca",
   "metadata": {},
   "source": [
    "# Tower Of Hania"
   ]
  },
  {
   "cell_type": "code",
   "execution_count": 34,
   "id": "35d53872",
   "metadata": {},
   "outputs": [],
   "source": [
    "def tower_of_hania(n, src, helper, dest):\n",
    "    if n == 1:\n",
    "        print(f\"transfer disk {n} from {src} to {dest}\")\n",
    "        return\n",
    "    \n",
    "    tower_of_hania(n - 1, src, dest, helper)\n",
    "    print(f\"transfer disk {n} from {src} to {dest}\")\n",
    "    tower_of_hania(n - 1, helper, src, dest)"
   ]
  },
  {
   "cell_type": "code",
   "execution_count": 35,
   "id": "3206eec4",
   "metadata": {},
   "outputs": [
    {
     "name": "stdout",
     "output_type": "stream",
     "text": [
      "transfer disk 1 from S to H\n",
      "transfer disk 2 from S to D\n",
      "transfer disk 1 from H to D\n",
      "transfer disk 3 from S to H\n",
      "transfer disk 1 from D to S\n",
      "transfer disk 2 from D to H\n",
      "transfer disk 1 from S to H\n",
      "transfer disk 4 from S to D\n",
      "transfer disk 1 from H to D\n",
      "transfer disk 2 from H to S\n",
      "transfer disk 1 from D to S\n",
      "transfer disk 3 from H to D\n",
      "transfer disk 1 from S to H\n",
      "transfer disk 2 from S to D\n",
      "transfer disk 1 from H to D\n"
     ]
    }
   ],
   "source": [
    "tower_of_hania(4, \"S\", \"H\", \"D\")"
   ]
  },
  {
   "cell_type": "markdown",
   "id": "1da21720",
   "metadata": {},
   "source": [
    "# Reverse string using recursion "
   ]
  },
  {
   "cell_type": "code",
   "execution_count": 36,
   "id": "f70a473f",
   "metadata": {},
   "outputs": [],
   "source": [
    "def rev_str_recursion(string, ind):\n",
    "    if ind == 0:\n",
    "        return string[ind]\n",
    "    return string[ind] + rev_str_recursion(string, ind - 1)"
   ]
  },
  {
   "cell_type": "code",
   "execution_count": 37,
   "id": "2d4b42a0",
   "metadata": {},
   "outputs": [
    {
     "data": {
      "text/plain": [
       "'yug tnailerB'"
      ]
     },
     "execution_count": 37,
     "metadata": {},
     "output_type": "execute_result"
    }
   ],
   "source": [
    "word = \"Breliant guy\"\n",
    "rev_str_recursion(word, len(word) - 1)"
   ]
  },
  {
   "cell_type": "markdown",
   "id": "5305b189",
   "metadata": {},
   "source": [
    "# Find last accurance of element "
   ]
  },
  {
   "cell_type": "code",
   "execution_count": null,
   "id": "65fb6e28",
   "metadata": {},
   "outputs": [],
   "source": []
  },
  {
   "cell_type": "code",
   "execution_count": 38,
   "id": "4401c635",
   "metadata": {},
   "outputs": [],
   "source": [
    "first = -1\n",
    "last = -1\n",
    "def last_accurance(string, ind, elem):\n",
    "    global first, last\n",
    "    if ind == len(string):\n",
    "        print(f\"{elem} first found on {first} and last on {last}\")\n",
    "        return \n",
    "    curr_char = string[ind]\n",
    "    if curr_char == elem:\n",
    "        if first == -1:\n",
    "            print(ind)\n",
    "            first = ind\n",
    "        else:\n",
    "            last = ind\n",
    "\n",
    "    last_accurance(string, ind+1, elem)"
   ]
  },
  {
   "cell_type": "code",
   "execution_count": 39,
   "id": "571072d8",
   "metadata": {},
   "outputs": [
    {
     "name": "stdout",
     "output_type": "stream",
     "text": [
      "1\n",
      "o first found on 1 and last on 10\n"
     ]
    }
   ],
   "source": [
    "last_accurance(\"construction\", 0, \"o\")"
   ]
  },
  {
   "cell_type": "code",
   "execution_count": 40,
   "id": "53a3be27",
   "metadata": {},
   "outputs": [
    {
     "ename": "SyntaxError",
     "evalue": "invalid syntax (2424015465.py, line 1)",
     "output_type": "error",
     "traceback": [
      "\u001b[1;36m  Cell \u001b[1;32mIn[40], line 1\u001b[1;36m\u001b[0m\n\u001b[1;33m    25 <\u001b[0m\n\u001b[1;37m         ^\u001b[0m\n\u001b[1;31mSyntaxError\u001b[0m\u001b[1;31m:\u001b[0m invalid syntax\n"
     ]
    }
   ],
   "source": [
    "25 < "
   ]
  },
  {
   "cell_type": "code",
   "execution_count": 41,
   "id": "25c74bef",
   "metadata": {},
   "outputs": [],
   "source": [
    "def check_arr_sorted(arr, ind):\n",
    "    if ind == len(arr) - 1:\n",
    "        return True\n",
    "    \n",
    "    if arr[ind] < arr[ind + 1]:\n",
    "        return check_arr_sorted(arr, ind+1)\n",
    "    else:\n",
    "        return False"
   ]
  },
  {
   "cell_type": "code",
   "execution_count": 42,
   "id": "fb936d79",
   "metadata": {},
   "outputs": [
    {
     "data": {
      "text/plain": [
       "True"
      ]
     },
     "execution_count": 42,
     "metadata": {},
     "output_type": "execute_result"
    }
   ],
   "source": [
    "arr = [1, 3, 4, 5, 7, 9, 23, 64]\n",
    "check_arr_sorted(arr, 0)"
   ]
  },
  {
   "cell_type": "markdown",
   "id": "d783dab0",
   "metadata": {},
   "source": [
    "# Put X in end of string "
   ]
  },
  {
   "cell_type": "code",
   "execution_count": 43,
   "id": "688dabce",
   "metadata": {},
   "outputs": [],
   "source": [
    "def x_in_end(string, ind, new_string, count):\n",
    "    if ind == len(string):\n",
    "        new_string += \"x\" * count\n",
    "        return new_string \n",
    "    \n",
    "    if string[ind] == \"x\":\n",
    "        count += 1\n",
    "    else:\n",
    "        new_string += string[ind]\n",
    "        \n",
    "    return x_in_end(string, ind + 1, new_string, count)"
   ]
  },
  {
   "cell_type": "code",
   "execution_count": 44,
   "id": "f29c806f",
   "metadata": {},
   "outputs": [
    {
     "data": {
      "text/plain": [
       "'alendarxxx'"
      ]
     },
     "execution_count": 44,
     "metadata": {},
     "output_type": "execute_result"
    }
   ],
   "source": [
    "x_in_end(\"alxenxdxar\", 0, \"\", 0)"
   ]
  },
  {
   "cell_type": "markdown",
   "id": "cab0f97c",
   "metadata": {},
   "source": [
    "# Remove Duplicates"
   ]
  },
  {
   "cell_type": "code",
   "execution_count": 45,
   "id": "81684ed9",
   "metadata": {},
   "outputs": [],
   "source": [
    "str_map = {chr(ord('a') + i): False for i in range(26)}\n",
    "def remove_dup_from_str(string, ind, new_string):\n",
    "    if ind == len(string):\n",
    "        return new_string\n",
    "    \n",
    "    curr_char = string[ind]\n",
    "    \n",
    "    if str_map[curr_char] == False:\n",
    "        str_map[curr_char] = True\n",
    "        new_string += string[ind]\n",
    "        \n",
    "    return remove_dup_from_str(string, ind + 1, new_string)"
   ]
  },
  {
   "cell_type": "code",
   "execution_count": 46,
   "id": "469cfd37",
   "metadata": {},
   "outputs": [
    {
     "data": {
      "text/plain": [
       "'grenfuly'"
      ]
     },
     "execution_count": 46,
     "metadata": {},
     "output_type": "execute_result"
    }
   ],
   "source": [
    "remove_dup_from_str(\"greenffuullyy\", 0, \"\")"
   ]
  },
  {
   "cell_type": "markdown",
   "id": "32cc6f48",
   "metadata": {},
   "source": [
    "# Subsequence of string "
   ]
  },
  {
   "cell_type": "code",
   "execution_count": 47,
   "id": "fcc33001",
   "metadata": {},
   "outputs": [],
   "source": [
    "def subsequence_str(string, ind, new_string):\n",
    "    if ind == len(string):\n",
    "        print(new_string)\n",
    "        return\n",
    "    \n",
    "    curr_char = string[ind]\n",
    "    subsequence_str(string, ind + 1, new_string + string[ind])\n",
    "    subsequence_str(string, ind + 1, new_string)    "
   ]
  },
  {
   "cell_type": "code",
   "execution_count": 48,
   "id": "67e599f0",
   "metadata": {},
   "outputs": [
    {
     "name": "stdout",
     "output_type": "stream",
     "text": [
      "abc\n",
      "ab\n",
      "ac\n",
      "a\n",
      "bc\n",
      "b\n",
      "c\n",
      "\n"
     ]
    }
   ],
   "source": [
    "subsequence_str(\"abc\", 0, \"\")"
   ]
  },
  {
   "cell_type": "markdown",
   "id": "8c2d859f",
   "metadata": {},
   "source": [
    "# Unique subsequence of string"
   ]
  },
  {
   "cell_type": "code",
   "execution_count": 49,
   "id": "d28f7823",
   "metadata": {},
   "outputs": [],
   "source": [
    "def subsequence_str(string, ind, new_string, sub_set):\n",
    "    if ind == len(string):\n",
    "        if new_string not in sub_set:\n",
    "            print(new_string)\n",
    "            sub_set.add(new_string)\n",
    "        return\n",
    "    \n",
    "    curr_char = string[ind]\n",
    "    subsequence_str(string, ind + 1, new_string + string[ind], sub_set)\n",
    "    subsequence_str(string, ind + 1, new_string, sub_set)    "
   ]
  },
  {
   "cell_type": "code",
   "execution_count": 50,
   "id": "fc2964dc",
   "metadata": {},
   "outputs": [
    {
     "name": "stdout",
     "output_type": "stream",
     "text": [
      "aaa\n",
      "aa\n",
      "a\n",
      "\n"
     ]
    }
   ],
   "source": [
    "subsequence_str(\"aaa\", 0, \"\", set())"
   ]
  },
  {
   "cell_type": "markdown",
   "id": "b125e744",
   "metadata": {},
   "source": [
    "# All possible keypad combination "
   ]
  },
  {
   "cell_type": "code",
   "execution_count": 51,
   "id": "367503a5",
   "metadata": {},
   "outputs": [],
   "source": [
    "keypad = [\".\", \"abc\", \"def\", \"ghi\", \"jkl\", \"mno\", \"pqrs\", \"tu\", \"vwx\", \"yz\"]"
   ]
  },
  {
   "cell_type": "code",
   "execution_count": 52,
   "id": "af6bb9da",
   "metadata": {},
   "outputs": [],
   "source": [
    "def keypad_combination(string, ind, combination, keypad):\n",
    "    if ind == len(string):\n",
    "        print(combination)\n",
    "        return\n",
    "    \n",
    "    curr_num = string[ind]\n",
    "    for i in keypad[int(curr_num)]:\n",
    "        keypad_combination(string, ind + 1, combination + i, keypad)"
   ]
  },
  {
   "cell_type": "code",
   "execution_count": 53,
   "id": "cdc86305",
   "metadata": {},
   "outputs": [
    {
     "name": "stdout",
     "output_type": "stream",
     "text": [
      "gdj\n",
      "gdk\n",
      "gdl\n",
      "gej\n",
      "gek\n",
      "gel\n",
      "gfj\n",
      "gfk\n",
      "gfl\n",
      "hdj\n",
      "hdk\n",
      "hdl\n",
      "hej\n",
      "hek\n",
      "hel\n",
      "hfj\n",
      "hfk\n",
      "hfl\n",
      "idj\n",
      "idk\n",
      "idl\n",
      "iej\n",
      "iek\n",
      "iel\n",
      "ifj\n",
      "ifk\n",
      "ifl\n"
     ]
    }
   ],
   "source": [
    "keypad_combination(\"324\", 0, \"\", keypad)"
   ]
  },
  {
   "cell_type": "markdown",
   "id": "00f39679",
   "metadata": {},
   "source": [
    "# All Premutation ( all possible combination ) of string"
   ]
  },
  {
   "cell_type": "code",
   "execution_count": 54,
   "id": "244212bd",
   "metadata": {},
   "outputs": [],
   "source": [
    "def premutation_string(string, prem, arr):\n",
    "    if string == \"\":\n",
    "        arr.append(prem)\n",
    "        return\n",
    "    \n",
    "    for i in string:\n",
    "        premutation_string(string.replace(i, \"\"), prem + i, arr)"
   ]
  },
  {
   "cell_type": "code",
   "execution_count": 55,
   "id": "24dbf307",
   "metadata": {},
   "outputs": [],
   "source": [
    "arr = []\n",
    "premutation_string(\"Huzefa\", \"\", arr)"
   ]
  },
  {
   "cell_type": "code",
   "execution_count": 56,
   "id": "5640bd53",
   "metadata": {},
   "outputs": [],
   "source": [
    "def factoral(num):\n",
    "    if num == 2:\n",
    "        return 2\n",
    "    if num == 1:\n",
    "        return 1\n",
    "    return num * factoral(num -1)"
   ]
  },
  {
   "cell_type": "code",
   "execution_count": 57,
   "id": "952974b2",
   "metadata": {},
   "outputs": [
    {
     "data": {
      "text/plain": [
       "720"
      ]
     },
     "execution_count": 57,
     "metadata": {},
     "output_type": "execute_result"
    }
   ],
   "source": [
    "factoral(6)"
   ]
  },
  {
   "cell_type": "code",
   "execution_count": 58,
   "id": "49354e8c",
   "metadata": {},
   "outputs": [
    {
     "data": {
      "text/plain": [
       "720"
      ]
     },
     "execution_count": 58,
     "metadata": {},
     "output_type": "execute_result"
    }
   ],
   "source": [
    "len(arr)"
   ]
  },
  {
   "cell_type": "markdown",
   "id": "de8af312",
   "metadata": {},
   "source": [
    "# Total path in a maze to move from (0,0) to (n,m)\n",
    "\n",
    "### Condition\n",
    "* You Can only move right and downward"
   ]
  },
  {
   "cell_type": "code",
   "execution_count": 61,
   "id": "aa3d7f29",
   "metadata": {},
   "outputs": [],
   "source": [
    "count = 0\n",
    "def maze_total_path_one(n, m, cur_n, cur_m):\n",
    "    global count\n",
    "    if cur_m == m - 1 and cur_n == n - 1:\n",
    "        count += 1\n",
    "        return \n",
    "\n",
    "    if cur_n != n - 1:\n",
    "        maze_total_path_one(n, m, cur_n + 1, cur_m)        \n",
    "    if cur_m != m - 1:\n",
    "        maze_total_path_one(n, m, cur_n, cur_m + 1)\n"
   ]
  },
  {
   "cell_type": "code",
   "execution_count": 62,
   "id": "54f4c946",
   "metadata": {},
   "outputs": [],
   "source": [
    "maze_total_path_one(3, 3, 0, 0)"
   ]
  },
  {
   "cell_type": "code",
   "execution_count": 63,
   "id": "e0e13163",
   "metadata": {},
   "outputs": [
    {
     "data": {
      "text/plain": [
       "6"
      ]
     },
     "execution_count": 63,
     "metadata": {},
     "output_type": "execute_result"
    }
   ],
   "source": [
    "count"
   ]
  },
  {
   "cell_type": "code",
   "execution_count": 64,
   "id": "38fcd721",
   "metadata": {},
   "outputs": [],
   "source": [
    "def maze_total_path_two(n, m, cur_n, cur_m):\n",
    "    if cur_m == m or cur_n == n:\n",
    "        return 0\n",
    "    if cur_m == m - 1 and cur_n == n - 1:\n",
    "        return 1\n",
    "\n",
    "    return maze_total_path_two(n, m, cur_n + 1, cur_m) + maze_total_path_two(n, m, cur_n, cur_m + 1)"
   ]
  },
  {
   "cell_type": "code",
   "execution_count": 68,
   "id": "a0bda58b",
   "metadata": {},
   "outputs": [
    {
     "data": {
      "text/plain": [
       "4"
      ]
     },
     "execution_count": 68,
     "metadata": {},
     "output_type": "execute_result"
    }
   ],
   "source": [
    "maze_total_path_two(4, 2, 0, 0)"
   ]
  },
  {
   "cell_type": "markdown",
   "id": "5de401b3",
   "metadata": {},
   "source": [
    "# Place Tiles of 1Xm in a floor of size nXm\n",
    "### Tile can be placed horizontally or vertically"
   ]
  },
  {
   "cell_type": "code",
   "execution_count": 80,
   "id": "21c6cf7e",
   "metadata": {},
   "outputs": [],
   "source": [
    "def place_tile(n, m):\n",
    "    print(n, m)\n",
    "    if n < m:\n",
    "        return 1\n",
    "    if n == m:\n",
    "        return 2\n",
    "    return place_tile(n - m, m) + place_tile(n - 1, m)"
   ]
  },
  {
   "cell_type": "code",
   "execution_count": 86,
   "id": "9a3a7574",
   "metadata": {},
   "outputs": [
    {
     "name": "stdout",
     "output_type": "stream",
     "text": [
      "2 6\n"
     ]
    },
    {
     "data": {
      "text/plain": [
       "1"
      ]
     },
     "execution_count": 86,
     "metadata": {},
     "output_type": "execute_result"
    }
   ],
   "source": [
    "place_tile(2, 6)"
   ]
  },
  {
   "cell_type": "markdown",
   "id": "2b599a7e",
   "metadata": {},
   "source": [
    "# Numbers of ways in which you can invite n people to your party, single or in pairs"
   ]
  },
  {
   "cell_type": "code",
   "execution_count": 89,
   "id": "ec8b7f96",
   "metadata": {},
   "outputs": [],
   "source": [
    "def invite_people(num_people):\n",
    "    if num_people <= 1:\n",
    "        return 1\n",
    "    single = invite_people(num_people - 1)\n",
    "    in_pair = (num_people - 1) * invite_people(num_people - 2)\n",
    "    \n",
    "    return single + in_pair"
   ]
  },
  {
   "cell_type": "code",
   "execution_count": 92,
   "id": "0d784437",
   "metadata": {},
   "outputs": [
    {
     "data": {
      "text/plain": [
       "4"
      ]
     },
     "execution_count": 92,
     "metadata": {},
     "output_type": "execute_result"
    }
   ],
   "source": [
    "invite_people(3)"
   ]
  },
  {
   "cell_type": "markdown",
   "id": "95ffdbe3",
   "metadata": {},
   "source": [
    "# Print all subset of set of n natural number"
   ]
  },
  {
   "cell_type": "code",
   "execution_count": 108,
   "id": "ab049d56",
   "metadata": {},
   "outputs": [],
   "source": [
    "def print_subset(arr):\n",
    "    for i in arr:\n",
    "        print(i, end=\" \")\n",
    "        \n",
    "    print()"
   ]
  },
  {
   "cell_type": "code",
   "execution_count": 109,
   "id": "c4a8495f",
   "metadata": {},
   "outputs": [],
   "source": [
    "def subset_N_num(num, subset : list):\n",
    "    if num == 0:\n",
    "        print_subset(subset)\n",
    "        return\n",
    "    \n",
    "    subset.append(num)\n",
    "#     print(subset, \"inside\")\n",
    "    subset_N_num(num -1, subset)\n",
    "    \n",
    "    subset.remove(num)\n",
    "#     print(subset, \"inside\")\n",
    "    subset_N_num(num - 1, subset)"
   ]
  },
  {
   "cell_type": "code",
   "execution_count": 110,
   "id": "5f070c4a",
   "metadata": {},
   "outputs": [
    {
     "name": "stdout",
     "output_type": "stream",
     "text": [
      "3 2 1 \n",
      "3 2 \n",
      "3 1 \n",
      "3 \n",
      "2 1 \n",
      "2 \n",
      "1 \n",
      "\n"
     ]
    }
   ],
   "source": [
    "subset_N_num(3, [])"
   ]
  },
  {
   "cell_type": "code",
   "execution_count": null,
   "id": "2714e2a9",
   "metadata": {},
   "outputs": [],
   "source": []
  }
 ],
 "metadata": {
  "kernelspec": {
   "display_name": "Python 3 (ipykernel)",
   "language": "python",
   "name": "python3"
  },
  "language_info": {
   "codemirror_mode": {
    "name": "ipython",
    "version": 3
   },
   "file_extension": ".py",
   "mimetype": "text/x-python",
   "name": "python",
   "nbconvert_exporter": "python",
   "pygments_lexer": "ipython3",
   "version": "3.11.2"
  }
 },
 "nbformat": 4,
 "nbformat_minor": 5
}

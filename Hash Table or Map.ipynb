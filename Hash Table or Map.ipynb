{
 "cells": [
  {
   "cell_type": "code",
   "execution_count": 9,
   "id": "63f89654",
   "metadata": {},
   "outputs": [],
   "source": [
    "def isFrequencyUnique(n : int, arr) -> bool:\n",
    "    # code here\n",
    "    mp = {}\n",
    "    for i in arr:\n",
    "        if i in mp:\n",
    "            mp[i] += 1\n",
    "        else:            \n",
    "            mp[i] = 1\n",
    "            \n",
    "    se = set()\n",
    "        \n",
    "    for i in mp.values():\n",
    "        if i in se:\n",
    "            return False\n",
    "            \n",
    "        se.add(i)\n",
    "            \n",
    "    return True"
   ]
  },
  {
   "cell_type": "code",
   "execution_count": 11,
   "id": "5b6a3880",
   "metadata": {},
   "outputs": [
    {
     "data": {
      "text/plain": [
       "True"
      ]
     },
     "execution_count": 11,
     "metadata": {},
     "output_type": "execute_result"
    }
   ],
   "source": [
    "isFrequencyUnique(10, [2, 2, 5, 10, 1, 2, 10, 5, 10, 2])"
   ]
  },
  {
   "cell_type": "code",
   "execution_count": 24,
   "id": "200830a0",
   "metadata": {},
   "outputs": [],
   "source": [
    "def LargButMinFreq(arr,n):\n",
    "    #code here\n",
    "    mp = {}\n",
    "    for i in arr:\n",
    "        if i in mp:\n",
    "            mp[i] += 1\n",
    "        else:\n",
    "            mp[i] = 1\n",
    "            \n",
    "    mp.\n",
    "    min_va = 0\n",
    "    min_feq = n\n",
    "    \n",
    "    for key, value in mp.items():\n",
    "        if value < min_feq:\n",
    "            min_va = key\n",
    "            min_feq = value\n",
    "        elif value == min_feq:\n",
    "            if key > min_va:\n",
    "                min_va = key\n",
    "            \n",
    "    return min_va"
   ]
  },
  {
   "cell_type": "code",
   "execution_count": 27,
   "id": "1e355b51",
   "metadata": {},
   "outputs": [
    {
     "data": {
      "text/plain": [
       "5"
      ]
     },
     "execution_count": 27,
     "metadata": {},
     "output_type": "execute_result"
    }
   ],
   "source": [
    "LargButMinFreq([3,3,5,5], 4)"
   ]
  },
  {
   "cell_type": "code",
   "execution_count": 37,
   "id": "be110834",
   "metadata": {},
   "outputs": [],
   "source": [
    "    def maxInstance(s : str) -> int:\n",
    "        # code here\n",
    "        mp = {}\n",
    "        word = \"balloon\"\n",
    "            \n",
    "        for i in s:\n",
    "            if i in mp:\n",
    "                mp[i] += 1\n",
    "            else:\n",
    "                mp[i] = 1\n",
    "                \n",
    "        ins = 999999999\n",
    "        for key, value in mp.items():\n",
    "            if key == \"b\" and value < ins:\n",
    "                ins = value\n",
    "            if key == \"a\" and value < ins:\n",
    "                ins = value\n",
    "            if key == \"l\" and value // 2 < ins:\n",
    "                ins = value // 2\n",
    "            if key == \"o\" and value // 2 < ins:\n",
    "                ins = value // 2\n",
    "            if key == \"n\" and value < ins:\n",
    "                ins = value\n",
    "            \n",
    "        return ins"
   ]
  },
  {
   "cell_type": "code",
   "execution_count": 39,
   "id": "c2fbb4f2",
   "metadata": {},
   "outputs": [
    {
     "data": {
      "text/plain": [
       "2"
      ]
     },
     "execution_count": 39,
     "metadata": {},
     "output_type": "execute_result"
    }
   ],
   "source": [
    "maxInstance(\"loonbalxballpoon\")"
   ]
  },
  {
   "cell_type": "code",
   "execution_count": 34,
   "id": "8a1babe6",
   "metadata": {},
   "outputs": [
    {
     "data": {
      "text/plain": [
       "2"
      ]
     },
     "execution_count": 34,
     "metadata": {},
     "output_type": "execute_result"
    }
   ],
   "source": [
    "5 // 2"
   ]
  },
  {
   "cell_type": "code",
   "execution_count": 52,
   "id": "c19cac69",
   "metadata": {},
   "outputs": [],
   "source": [
    "def maximumFrequency (S: str) : \n",
    "    #Complete the function\n",
    "    mp = {}\n",
    "    \n",
    "    cur_wo = \"\"   \n",
    "    for i in S:\n",
    "        if i != \" \":\n",
    "            cur_wo += i\n",
    "        else:\n",
    "            if cur_wo in mp:\n",
    "                mp[cur_wo] += 1\n",
    "            else:\n",
    "                mp[cur_wo] = 1\n",
    "            \n",
    "            cur_wo = \"\"\n",
    "            \n",
    "    word = \"\"\n",
    "    freq = 0\n",
    "    \n",
    "    for key, value in mp.items():\n",
    "        if value > freq:\n",
    "            word = key\n",
    "            freq = value\n",
    "        elif value == freq:\n",
    "            S.startswith(key)\n",
    "            word = key\n",
    "            \n",
    "    return word+\" \"+str(freq)"
   ]
  },
  {
   "cell_type": "code",
   "execution_count": 53,
   "id": "512009bf",
   "metadata": {},
   "outputs": [
    {
     "data": {
      "text/plain": [
       "'rjs 1'"
      ]
     },
     "execution_count": 53,
     "metadata": {},
     "output_type": "execute_result"
    }
   ],
   "source": [
    "maximumFrequency(\"rjs kot w lmy nh fn zo cfg bl m q ms pnt tko iym uo nmx jl vn i sin\")"
   ]
  },
  {
   "cell_type": "code",
   "execution_count": 55,
   "id": "d1c122c6",
   "metadata": {},
   "outputs": [],
   "source": [
    "word = \"dcd sdcs\""
   ]
  },
  {
   "cell_type": "code",
   "execution_count": 58,
   "id": "6856ce8e",
   "metadata": {},
   "outputs": [
    {
     "data": {
      "text/plain": [
       "False"
      ]
     },
     "execution_count": 58,
     "metadata": {},
     "output_type": "execute_result"
    }
   ],
   "source": [
    "word.startswith(\"sdcs\")"
   ]
  },
  {
   "cell_type": "code",
   "execution_count": null,
   "id": "a51d1a95",
   "metadata": {},
   "outputs": [],
   "source": []
  }
 ],
 "metadata": {
  "kernelspec": {
   "display_name": "Python 3 (ipykernel)",
   "language": "python",
   "name": "python3"
  },
  "language_info": {
   "codemirror_mode": {
    "name": "ipython",
    "version": 3
   },
   "file_extension": ".py",
   "mimetype": "text/x-python",
   "name": "python",
   "nbconvert_exporter": "python",
   "pygments_lexer": "ipython3",
   "version": "3.11.2"
  }
 },
 "nbformat": 4,
 "nbformat_minor": 5
}

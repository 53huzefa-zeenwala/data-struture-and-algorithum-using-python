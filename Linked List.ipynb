{
 "cells": [
  {
   "cell_type": "code",
   "execution_count": 5,
   "id": "a72b2bb5",
   "metadata": {},
   "outputs": [],
   "source": [
    "class Node:\n",
    "    def __init__(self, data, next= None):\n",
    "        self.data = data\n",
    "        self.next = next"
   ]
  },
  {
   "cell_type": "code",
   "execution_count": 49,
   "id": "929bfcae",
   "metadata": {},
   "outputs": [],
   "source": [
    "ll_sort = Linked_list()\n",
    "ll_sort.add_last(1)\n",
    "ll_sort.add_last(1)\n",
    "ll_sort.add_last(2)\n",
    "ll_sort.add_last(3)\n",
    "ll_sort.add_last(3)\n",
    "ll_sort.add_last(4)\n",
    "ll_sort.add_last(5)"
   ]
  },
  {
   "cell_type": "code",
   "execution_count": 50,
   "id": "2292006a",
   "metadata": {
    "scrolled": true
   },
   "outputs": [
    {
     "name": "stdout",
     "output_type": "stream",
     "text": [
      "1 --> 1 --> 2 --> 3 --> 3 --> 4 --> 5 --> None\n"
     ]
    }
   ],
   "source": [
    "ll_sort.print_list()"
   ]
  },
  {
   "cell_type": "code",
   "execution_count": 51,
   "id": "0bf539a7",
   "metadata": {},
   "outputs": [],
   "source": [
    "ll_sort.head = ll_sort.remove_duplicate(ll_sort.head)"
   ]
  },
  {
   "cell_type": "code",
   "execution_count": 52,
   "id": "297e9582",
   "metadata": {},
   "outputs": [
    {
     "name": "stdout",
     "output_type": "stream",
     "text": [
      "1 --> 2 --> 3 --> 4 --> 5 --> None\n"
     ]
    }
   ],
   "source": [
    "ll_sort.print_list()"
   ]
  },
  {
   "cell_type": "markdown",
   "id": "d9c33dee",
   "metadata": {},
   "source": [
    "## zipp two list"
   ]
  },
  {
   "cell_type": "code",
   "execution_count": 53,
   "id": "c1b30775",
   "metadata": {},
   "outputs": [],
   "source": [
    "ll_two = Linked_list()\n",
    "ll_two.add_last(\"s\")\n",
    "ll_two.add_last(\"a\")\n",
    "ll_two.add_last(\"l\")\n",
    "ll_two.add_last(\"i\")"
   ]
  },
  {
   "cell_type": "code",
   "execution_count": 54,
   "id": "a68063a3",
   "metadata": {},
   "outputs": [],
   "source": [
    "def zipp_two_list(head_one, head_two):\n",
    "    list_three = Linked_list()\n",
    "    list_three.add_node(Node(head_one.data))\n",
    "    three_head = list_three.head\n",
    "    \n",
    "    current_one = head_one.next\n",
    "    current_two = head_two\n",
    "    \n",
    "    count = 0\n",
    "    \n",
    "    while current_one != None and current_two != None:\n",
    "        if count % 2 == 0:\n",
    "            three_head.next = Node(current_two.data)\n",
    "            current_two = current_two.next\n",
    "        else:\n",
    "            three_head.next = Node(current_one.data)\n",
    "            current_one = current_one.next\n",
    "        \n",
    "        count+=1\n",
    "        three_head = three_head.next\n",
    "\n",
    "    if current_one != None:\n",
    "        three_head.next = current_one\n",
    "        \n",
    "    if current_two != None:\n",
    "        three_head.next = current_two\n",
    "        \n",
    "    return list_three"
   ]
  },
  {
   "cell_type": "code",
   "execution_count": 55,
   "id": "b8c98855",
   "metadata": {},
   "outputs": [],
   "source": [
    "new_list = zipp_two_list(ll.head, ll_two.head)"
   ]
  },
  {
   "cell_type": "markdown",
   "id": "4f496577",
   "metadata": {},
   "source": [
    "### Intializing number list"
   ]
  },
  {
   "cell_type": "code",
   "execution_count": 56,
   "id": "f92bfcca",
   "metadata": {},
   "outputs": [],
   "source": [
    "num_list = Linked_list()"
   ]
  },
  {
   "cell_type": "markdown",
   "id": "f78e8ab4",
   "metadata": {},
   "source": [
    "### Inserting random number"
   ]
  },
  {
   "cell_type": "code",
   "execution_count": 57,
   "id": "eedd5b01",
   "metadata": {},
   "outputs": [],
   "source": [
    "# [35, 3, 6, 54, 26, 1]\n",
    "num_list.add_last(35)\n",
    "num_list.add_last(3)\n",
    "num_list.add_last(6)\n",
    "num_list.add_last(54)\n",
    "num_list.add_last(26)\n",
    "num_list.add_last(1)"
   ]
  },
  {
   "cell_type": "code",
   "execution_count": 58,
   "id": "9010e5a7",
   "metadata": {
    "scrolled": true
   },
   "outputs": [
    {
     "name": "stdout",
     "output_type": "stream",
     "text": [
      "35 --> 3 --> 6 --> 54 --> 26 --> 1 --> None\n"
     ]
    }
   ],
   "source": [
    "num_list.print_list()"
   ]
  },
  {
   "cell_type": "code",
   "execution_count": 59,
   "id": "843b14b6",
   "metadata": {},
   "outputs": [],
   "source": [
    "num_list.head = num_list.sort_num_list(num_list.head)"
   ]
  },
  {
   "cell_type": "code",
   "execution_count": 60,
   "id": "7ce2b1f2",
   "metadata": {},
   "outputs": [],
   "source": [
    "num_list_two = Linked_list()\n",
    "# [32, 4, 42, 13, 5, 11, 98, 67]\n",
    "num_list_two.add_last(32)\n",
    "num_list_two.add_last(4)\n",
    "num_list_two.add_last(42)\n",
    "num_list_two.add_last(13)\n",
    "num_list_two.add_last(5)\n",
    "num_list_two.add_last(11)\n",
    "num_list_two.add_last(98)\n",
    "num_list_two.add_last(67)"
   ]
  },
  {
   "cell_type": "code",
   "execution_count": 61,
   "id": "1174d3ac",
   "metadata": {},
   "outputs": [],
   "source": [
    "num_list_two.head = num_list_two.sort_num_list(num_list_two.head)"
   ]
  },
  {
   "cell_type": "code",
   "execution_count": 62,
   "id": "f3f86b2e",
   "metadata": {},
   "outputs": [
    {
     "name": "stdout",
     "output_type": "stream",
     "text": [
      "4 --> 5 --> 11 --> 13 --> 32 --> 42 --> 67 --> 98 --> None\n"
     ]
    }
   ],
   "source": [
    "num_list_two.print_list()"
   ]
  },
  {
   "cell_type": "code",
   "execution_count": 63,
   "id": "a98e46a6",
   "metadata": {},
   "outputs": [
    {
     "name": "stdout",
     "output_type": "stream",
     "text": [
      "1 --> 3 --> 6 --> 26 --> 35 --> 54 --> None\n"
     ]
    }
   ],
   "source": [
    "num_list.print_list()"
   ]
  },
  {
   "cell_type": "code",
   "execution_count": 64,
   "id": "1954bc64",
   "metadata": {},
   "outputs": [],
   "source": [
    "def merge_two_sorted_ll(head_one, head_two):\n",
    "    dummy_node = Node(-1)\n",
    "    list_three = dummy_node\n",
    "    list_one = head_one\n",
    "    list_two = head_two\n",
    "    \n",
    "    while list_one != None and list_two != None:\n",
    "        if list_one.data < list_two.data:\n",
    "            list_three.next = Node(list_one.data)\n",
    "            list_one = list_one.next\n",
    "            \n",
    "        else:\n",
    "            list_three.next = Node(list_two.data)\n",
    "            list_two = list_two.next\n",
    "        \n",
    "        list_three = list_three.next\n",
    "        \n",
    "    if list_one != None:\n",
    "        list_three.next = list_one\n",
    "        \n",
    "    if list_two != None:\n",
    "        list_three.next = list_two\n",
    "        \n",
    "    dummy_node = dummy_node.next\n",
    "    \n",
    "    return dummy_node"
   ]
  },
  {
   "cell_type": "code",
   "execution_count": 65,
   "id": "27c6cb88",
   "metadata": {},
   "outputs": [],
   "source": [
    "merge_list = Linked_list()\n",
    "merge_list.head = merge_two_sorted_ll(num_list.head, num_list_two.head)"
   ]
  },
  {
   "cell_type": "code",
   "execution_count": 66,
   "id": "1f4757ca",
   "metadata": {},
   "outputs": [
    {
     "name": "stdout",
     "output_type": "stream",
     "text": [
      "1 --> 3 --> 4 --> 5 --> 6 --> 11 --> 13 --> 26 --> 32 --> 35 --> 42 --> 54 --> 67 --> 98 --> None\n"
     ]
    }
   ],
   "source": [
    "merge_list.print_list()"
   ]
  },
  {
   "cell_type": "code",
   "execution_count": 67,
   "id": "a3e54a5c",
   "metadata": {},
   "outputs": [],
   "source": [
    "def subArraySum(arr, n, s): \n",
    "    start = 0\n",
    "    end = 0\n",
    "    window_sum = 0\n",
    "    \n",
    "    if s == 0:\n",
    "        return [-1]\n",
    "    while end < n:\n",
    "        window_sum += arr[end]\n",
    "        \n",
    "        while window_sum > s:\n",
    "            window_sum -= arr[start]\n",
    "            start += 1\n",
    "        \n",
    "        if window_sum == s:\n",
    "            return start+1, end+1\n",
    "        \n",
    "        end += 1\n",
    "    \n",
    "    return -1\n",
    "        "
   ]
  },
  {
   "cell_type": "code",
   "execution_count": 68,
   "id": "91af45d2",
   "metadata": {},
   "outputs": [
    {
     "data": {
      "text/plain": [
       "-1"
      ]
     },
     "execution_count": 68,
     "metadata": {},
     "output_type": "execute_result"
    }
   ],
   "source": [
    "subArraySum([142, 112, 54, 69, 148, 45, 63, 158, 38, 60, 124, 142, 130, 179, 117, 36, 191, 43, 89, 107, 41, 143, 65, 49, 47, 6, 91, 130, 171, 151, 7, 102, 194, 149, 30, 24, 85, 155, 157, 41, 167, 177, 132, 109, 145, 40, 27, 124, 138, 139, 119, 83, 130, 142, 34, 116, 40, 59, 105, 131, 178, 107, 74, 187, 22, 146, 125, 73, 71, 30, 178, 174, 98, 113], 74, 665)"
   ]
  },
  {
   "cell_type": "code",
   "execution_count": 69,
   "id": "bcf56006",
   "metadata": {},
   "outputs": [
    {
     "data": {
      "text/plain": [
       "[-1]"
      ]
     },
     "execution_count": 69,
     "metadata": {},
     "output_type": "execute_result"
    }
   ],
   "source": [
    "subArraySum([1,2,3,4],4, 0)"
   ]
  },
  {
   "cell_type": "code",
   "execution_count": 70,
   "id": "95506403",
   "metadata": {},
   "outputs": [],
   "source": [
    "def missingNumber(arr, n):\n",
    "    sum = (n * (n + 1)) // 2\n",
    "    \n",
    "    for i in arr:\n",
    "        sum -= i\n",
    "        \n",
    "    return sum"
   ]
  },
  {
   "cell_type": "code",
   "execution_count": 71,
   "id": "a2059f8d",
   "metadata": {},
   "outputs": [
    {
     "data": {
      "text/plain": [
       "4"
      ]
     },
     "execution_count": 71,
     "metadata": {},
     "output_type": "execute_result"
    }
   ],
   "source": [
    "missingNumber([1,2,3,5], 5)"
   ]
  },
  {
   "cell_type": "code",
   "execution_count": 72,
   "id": "88916acb",
   "metadata": {},
   "outputs": [],
   "source": [
    "def sort012(arr, n):\n",
    "    new_arr = arr.copy()\n",
    "    count0 = 0\n",
    "    for i in range(n):\n",
    "        if arr[i] == 0:\n",
    "            count0+=1\n",
    "            arr.insert(0, 0)\n",
    "            \n",
    "        elif arr[i] == 1:\n",
    "            arr.insert(count0, 1)\n",
    "            \n",
    "        else:\n",
    "            arr.append(2)\n",
    "            \n",
    "        print(arr)\n",
    "        arr.pop(i)\n",
    "        \n",
    "        print(arr)"
   ]
  },
  {
   "cell_type": "code",
   "execution_count": 73,
   "id": "9d311c18",
   "metadata": {},
   "outputs": [
    {
     "name": "stdout",
     "output_type": "stream",
     "text": [
      "[0, 0, 2, 1, 2, 0]\n",
      "[0, 2, 1, 2, 0]\n",
      "[0, 2, 1, 2, 0, 2]\n",
      "[0, 1, 2, 0, 2]\n",
      "[0, 1, 2, 0, 2, 2]\n",
      "[0, 1, 0, 2, 2]\n",
      "[0, 1, 0, 2, 2, 2]\n",
      "[0, 1, 0, 2, 2]\n",
      "[0, 1, 0, 2, 2, 2]\n",
      "[0, 1, 0, 2, 2]\n"
     ]
    }
   ],
   "source": [
    "sort012([0, 2, 1, 2, 0], 5)"
   ]
  },
  {
   "cell_type": "code",
   "execution_count": 74,
   "id": "75dca7ef",
   "metadata": {},
   "outputs": [],
   "source": [
    "sx = [1, 2,0]"
   ]
  },
  {
   "cell_type": "code",
   "execution_count": 75,
   "id": "0fbd6802",
   "metadata": {},
   "outputs": [],
   "source": [
    "sx[0]= 0"
   ]
  },
  {
   "cell_type": "code",
   "execution_count": 76,
   "id": "beec5db2",
   "metadata": {},
   "outputs": [
    {
     "data": {
      "text/plain": [
       "[0, 2, 0]"
      ]
     },
     "execution_count": 76,
     "metadata": {},
     "output_type": "execute_result"
    }
   ],
   "source": [
    "sx"
   ]
  },
  {
   "cell_type": "code",
   "execution_count": 77,
   "id": "aa63bd16",
   "metadata": {},
   "outputs": [],
   "source": [
    "sx[-1] = 2"
   ]
  },
  {
   "cell_type": "code",
   "execution_count": 78,
   "id": "a1142694",
   "metadata": {},
   "outputs": [
    {
     "data": {
      "text/plain": [
       "[0, 2, 2]"
      ]
     },
     "execution_count": 78,
     "metadata": {},
     "output_type": "execute_result"
    }
   ],
   "source": [
    "sx"
   ]
  },
  {
   "cell_type": "code",
   "execution_count": 107,
   "id": "b6f3f941",
   "metadata": {},
   "outputs": [],
   "source": [
    "arr = [1,2,3,4,5 , 4, 6]"
   ]
  },
  {
   "cell_type": "code",
   "execution_count": 108,
   "id": "0a9bafbe",
   "metadata": {},
   "outputs": [],
   "source": [
    "def get_arr(arr, n):\n",
    "    slow_ptr = 0\n",
    "    fast_ptr = 0\n",
    "    \n",
    "    while fast_ptr + 1 != n and fast_ptr + 2 != n:\n",
    "        slow_ptr += 1\n",
    "        fast_ptr += 2\n",
    "        \n",
    "    return arr[slow_ptr]"
   ]
  },
  {
   "cell_type": "code",
   "execution_count": 109,
   "id": "36c25b7e",
   "metadata": {},
   "outputs": [
    {
     "data": {
      "text/plain": [
       "4"
      ]
     },
     "execution_count": 109,
     "metadata": {},
     "output_type": "execute_result"
    }
   ],
   "source": [
    "get_arr(arr, len(arr))"
   ]
  },
  {
   "cell_type": "code",
   "execution_count": 95,
   "id": "a6d858d7",
   "metadata": {},
   "outputs": [
    {
     "name": "stdout",
     "output_type": "stream",
     "text": [
      "h --> u --> z --> e --> f --> a --> None\n"
     ]
    }
   ],
   "source": [
    "ll.print_list()"
   ]
  },
  {
   "cell_type": "code",
   "execution_count": 96,
   "id": "a2b064fc",
   "metadata": {},
   "outputs": [],
   "source": [
    "ll.create_cycle()"
   ]
  },
  {
   "cell_type": "code",
   "execution_count": 97,
   "id": "e836b2c5",
   "metadata": {},
   "outputs": [
    {
     "name": "stdout",
     "output_type": "stream",
     "text": [
      "u z\n",
      "z f\n",
      "e h\n",
      "f z\n",
      "a f\n",
      "h h\n",
      "head\n"
     ]
    }
   ],
   "source": [
    "ll.remove_loop()"
   ]
  },
  {
   "cell_type": "code",
   "execution_count": 98,
   "id": "e642bfa8",
   "metadata": {},
   "outputs": [
    {
     "name": "stdout",
     "output_type": "stream",
     "text": [
      "h --> u --> z --> e --> f --> a --> None\n"
     ]
    }
   ],
   "source": [
    "ll.print_list()"
   ]
  },
  {
   "cell_type": "code",
   "execution_count": 114,
   "id": "4a377aaf",
   "metadata": {},
   "outputs": [],
   "source": [
    "ll_pal = Linked_list()"
   ]
  },
  {
   "cell_type": "code",
   "execution_count": 115,
   "id": "7c3472af",
   "metadata": {},
   "outputs": [],
   "source": [
    "ll_pal.add_first(2)\n",
    "ll_pal.add_last(1)"
   ]
  },
  {
   "cell_type": "code",
   "execution_count": 118,
   "id": "ad0fc5a5",
   "metadata": {},
   "outputs": [
    {
     "ename": "UnboundLocalError",
     "evalue": "cannot access local variable 'prev' where it is not associated with a value",
     "output_type": "error",
     "traceback": [
      "\u001b[1;31m---------------------------------------------------------------------------\u001b[0m",
      "\u001b[1;31mUnboundLocalError\u001b[0m                         Traceback (most recent call last)",
      "Cell \u001b[1;32mIn[118], line 1\u001b[0m\n\u001b[1;32m----> 1\u001b[0m \u001b[43mll_pal\u001b[49m\u001b[38;5;241;43m.\u001b[39;49m\u001b[43misPalindrome\u001b[49m\u001b[43m(\u001b[49m\u001b[43mll_pal\u001b[49m\u001b[38;5;241;43m.\u001b[39;49m\u001b[43mhead\u001b[49m\u001b[43m)\u001b[49m\n",
      "Cell \u001b[1;32mIn[113], line 389\u001b[0m, in \u001b[0;36mLinked_list.isPalindrome\u001b[1;34m(self, head)\u001b[0m\n\u001b[0;32m    386\u001b[0m     mid \u001b[38;5;241m=\u001b[39m mid\u001b[38;5;241m.\u001b[39mnext\n\u001b[0;32m    388\u001b[0m perv \u001b[38;5;241m=\u001b[39m mid\n\u001b[1;32m--> 389\u001b[0m cur \u001b[38;5;241m=\u001b[39m \u001b[43mprev\u001b[49m\u001b[38;5;241m.\u001b[39mnext\n\u001b[0;32m    391\u001b[0m \u001b[38;5;28;01mwhile\u001b[39;00m cur:\n\u001b[0;32m    392\u001b[0m     \u001b[38;5;28mnext\u001b[39m \u001b[38;5;241m=\u001b[39m cur\u001b[38;5;241m.\u001b[39mnext\n",
      "\u001b[1;31mUnboundLocalError\u001b[0m: cannot access local variable 'prev' where it is not associated with a value"
     ]
    }
   ],
   "source": [
    "ll_pal.isPalindrome(ll_pal.head)"
   ]
  },
  {
   "cell_type": "code",
   "execution_count": null,
   "id": "fe1cc229",
   "metadata": {},
   "outputs": [],
   "source": []
  },
  {
   "cell_type": "code",
   "execution_count": 447,
   "id": "02edad46",
   "metadata": {},
   "outputs": [],
   "source": [
    "class Linked_list:\n",
    "    def __init__(self):\n",
    "        self.head = None\n",
    "        self.__size = 0\n",
    "            \n",
    "    def print_size(self):\n",
    "        return self.__size\n",
    "        \n",
    "    def print_list(self):\n",
    "        current = self.head\n",
    "        if current is None:\n",
    "            return None\n",
    "        \n",
    "        while current:\n",
    "            print(str(current.data) + \" -->\", end=\" \")\n",
    "            current = current.next\n",
    "        print(\"None\")\n",
    "        \n",
    "    def print_n_node(self, n):\n",
    "        prev = self.head\n",
    "\n",
    "        for i in range(n -1):\n",
    "            if prev.next is None:\n",
    "                return \"node not found\"\n",
    "            \n",
    "            prev = prev.next\n",
    "            \n",
    "        return prev.data\n",
    "    \n",
    "    def search_node_position(self, value):\n",
    "        cur = self.head\n",
    "        if cur == None:\n",
    "            return \"List is empty\"\n",
    "        count = 1\n",
    "        while cur != None:\n",
    "            if value == cur.data:\n",
    "                return f\"{value} node found at {count} position\"\n",
    "            \n",
    "            count+=1\n",
    "            cur = cur.next\n",
    "            \n",
    "        return f\"{value} doesn't exists in list\"\n",
    "    \n",
    "    def add_node(self, node):\n",
    "        self.__size+=1\n",
    "        \n",
    "        if self.head == None:\n",
    "            self.head = node\n",
    "            return\n",
    "        \n",
    "        cur = self.head\n",
    "        \n",
    "        while cur.next:\n",
    "            cur = cur.next\n",
    "            \n",
    "        cur.next = node\n",
    "        \n",
    "    def add_first(self, data):\n",
    "        new_node = Node(data)\n",
    "        \n",
    "        self.__size+=1\n",
    "        if self.head is None:\n",
    "            self.head = new_node\n",
    "            return\n",
    "        \n",
    "        new_node.next = self.head\n",
    "        self.head = new_node\n",
    "        \n",
    "    def add_last(self, data):\n",
    "        new_node = Node(data)\n",
    "        current = self.head\n",
    "        \n",
    "        self.__size+=1\n",
    "        if current is None:\n",
    "            self.head = new_node\n",
    "            return\n",
    "        \n",
    "        while current.next:\n",
    "            current = current.next\n",
    "            \n",
    "        current.next = new_node\n",
    "        \n",
    "    def add_node_at_n(self, data, n):\n",
    "        new_node = Node(data)\n",
    "        cur = self.head\n",
    "        prev = None\n",
    "        if n == 1:\n",
    "            self.head = new_node\n",
    "            new_node.next = cur\n",
    "            return\n",
    "            \n",
    "#         if cur == None:\n",
    "#             return \"List is empty\"\n",
    "        \n",
    "        for i in range(n - 1):\n",
    "            if cur == None:\n",
    "                return f\"list has less node than {n - 1}\"\n",
    "            \n",
    "            prev = cur\n",
    "            cur = cur.next\n",
    "            \n",
    "        prev.next = new_node\n",
    "        new_node.next = cur\n",
    "            \n",
    "    def delete_first(self):\n",
    "        if self.head is None:\n",
    "            print(\"List is empty\")\n",
    "            return\n",
    "        \n",
    "        self.__size-=1\n",
    "        self.head = self.head.next\n",
    "        \n",
    "    def delete_last(self):\n",
    "        prev = None\n",
    "        cur = self.head\n",
    "        if cur is None:\n",
    "            print(\"list is empty\")\n",
    "            return\n",
    "        \n",
    "        self.__size-=1\n",
    "        if cur.next is None:\n",
    "            self.head = None\n",
    "            return\n",
    "        while cur.next:\n",
    "            prev = cur\n",
    "            cur = cur.next\n",
    "            \n",
    "        prev.next = None\n",
    "        \n",
    "    def delete_start_n_node(self, n):\n",
    "        cur = self.head\n",
    "        prev = None\n",
    "        if cur == None or cur.next == None:\n",
    "            return \"Not possible\"\n",
    "        \n",
    "        size-=1\n",
    "        if n == 1:\n",
    "            self.head = cur.next\n",
    "            return\n",
    "        \n",
    "        for i in range(n - 1):\n",
    "            if cur.next is None:\n",
    "                return \"Node Not exists\"\n",
    "            prev = cur\n",
    "            cur = cur.next\n",
    "            \n",
    "        prev.next = cur.next\n",
    "        \n",
    "    def delete_end_n_node(self, n):\n",
    "        if n > self.__size:\n",
    "            return \"Node not found\"\n",
    "        \n",
    "        prev = self.head\n",
    "            \n",
    "        n_start = self.__size - n\n",
    "        \n",
    "        self.__size-=1\n",
    "        \n",
    "        if n_start == 0:\n",
    "            self.head = prev.next\n",
    "            return\n",
    "        \n",
    "        for i in range(1, n_start):\n",
    "            prev = prev.next\n",
    "                        \n",
    "        prev.next = prev.next.next\n",
    "        \n",
    "    def reverse_list(self):\n",
    "        prev = self.head\n",
    "        cur = prev.next\n",
    "        if prev is None or cur is None:\n",
    "            return\n",
    "        \n",
    "        while cur:\n",
    "            next = cur.next\n",
    "            cur.next = prev\n",
    "            \n",
    "            prev = cur\n",
    "            cur = next\n",
    "        \n",
    "        self.head.next = None\n",
    "        self.head = prev\n",
    "        \n",
    "    def reverse_list_recur(self, head):            \n",
    "        if head is None or head.next is None:\n",
    "            return head \n",
    "        \n",
    "        new_head = self.reverse_list_recur(head.next)\n",
    "        head.next.next = head\n",
    "        head.next = None\n",
    "        return new_head\n",
    "    \n",
    "    def middle_node_normal(self, head):\n",
    "        middle = self.__size // 2\n",
    "        cur = head\n",
    "        for i in range(middle):\n",
    "            cur = cur.next\n",
    "            \n",
    "        return cur\n",
    "    @staticmethod\n",
    "    def middle_node_algo(head):\n",
    "        hare = head\n",
    "        turtle = head\n",
    "        \n",
    "        while hare.next != None and hare.next.next != None:\n",
    "            hare = hare.next.next\n",
    "            turtle = turtle.next\n",
    "            \n",
    "        return turtle\n",
    "    \n",
    "    @staticmethod\n",
    "    def reverse_node_pali(head):\n",
    "        prev = None\n",
    "        cur = head\n",
    "        while cur != None:\n",
    "            next = cur.next\n",
    "            cur.next = prev\n",
    "            prev = cur\n",
    "            cur = next\n",
    "            \n",
    "        return prev\n",
    "    \n",
    "    def is_palidrome(self):\n",
    "        head = self.head\n",
    "        if head == None or head.next == None:\n",
    "            return True\n",
    "        \n",
    "        middle = self.middle_node_algo(head)\n",
    "        print(middle.data)\n",
    "        second_half = self.reverse_node_pali(middle)\n",
    "        \n",
    "        first_half = head\n",
    "        \n",
    "        while (second_half != None and first_half != None):\n",
    "            if first_half.data != second_half.data:\n",
    "                return False\n",
    "            \n",
    "            first_half = first_half.next\n",
    "            second_half = second_half.next\n",
    "            \n",
    "        return True\n",
    "    \n",
    "    def has_cycle(self):\n",
    "        if self.head == None:\n",
    "            return False\n",
    "        \n",
    "        hare = self.head\n",
    "        turtle = self.head\n",
    "        while hare != None and hare.next != None:\n",
    "            hare = hare.next.next\n",
    "            turtle = turtle.next\n",
    "            \n",
    "            if hare == turtle:\n",
    "                return True\n",
    "            \n",
    "        return False\n",
    "    \n",
    "    def create_cycle(self):\n",
    "        prev = self.head\n",
    "        \n",
    "        while prev.next != None:\n",
    "            prev = prev.next\n",
    "            \n",
    "#         loop_start = 3\n",
    "#         loop_node = self.head\n",
    "#         for _ in range(1, loop_start):\n",
    "#             loop_node = loop_node.next\n",
    "            \n",
    "        prev.next = self.head\n",
    "        \n",
    "    def remove_loop(self):\n",
    "        if self.head == None or self.head.next == None:\n",
    "            return \"there is no cycle\"\n",
    "        \n",
    "        slow_pointer = self.head\n",
    "        fast_pointer = self.head\n",
    "        \n",
    "        while fast_pointer != None and fast_pointer.next != None:\n",
    "            fast_pointer = fast_pointer.next.next\n",
    "            slow_pointer = slow_pointer.next\n",
    "            print(slow_pointer.data, fast_pointer.data)\n",
    "            \n",
    "            if slow_pointer == fast_pointer:\n",
    "                break\n",
    "                \n",
    "        if slow_pointer != fast_pointer:\n",
    "            return \"return\"\n",
    "        \n",
    "        slow_pointer = self.head\n",
    "                \n",
    "        while slow_pointer.next != fast_pointer.next:\n",
    "            slow_pointer = slow_pointer.next\n",
    "            fast_pointer = fast_pointer.next\n",
    "        \n",
    "        if fast_pointer == self.head:\n",
    "            print(\"head\")\n",
    "            while fast_pointer.next != self.head:\n",
    "                fast_pointer = fast_pointer.next\n",
    "    \n",
    "        fast_pointer.next = None\n",
    "                \n",
    "    @staticmethod\n",
    "    def merge(left , right):\n",
    "        if left == None:\n",
    "            return right\n",
    "        \n",
    "        if right == None:\n",
    "            return left\n",
    "        \n",
    "        ans = Node(-1)\n",
    "        temp = ans\n",
    "        \n",
    "        while right != None and left != None:\n",
    "            if left.data < right.data:\n",
    "                temp.next = left\n",
    "                left = left.next\n",
    "            else:\n",
    "                temp.next = right\n",
    "                right = right.next\n",
    "                \n",
    "            temp = temp.next\n",
    "            \n",
    "        if right != None:\n",
    "            temp.next = right\n",
    "            \n",
    "        if left != None:\n",
    "            temp.next = left\n",
    "            \n",
    "        ans = ans.next\n",
    "        \n",
    "        return ans\n",
    "         \n",
    "    def sort_num_list(self, head):        \n",
    "        if head == None or head.next == None:\n",
    "            return head\n",
    "        \n",
    "        mid = self.middle_node_algo(head)\n",
    "        \n",
    "        left = head\n",
    "        right = mid.next\n",
    "        \n",
    "        mid.next = None\n",
    "        \n",
    "        return self.merge(self.sort_num_list(left), self.sort_num_list(right))\n",
    "    \n",
    "    def get_size(self):\n",
    "        size = 1\n",
    "        cur = self.head\n",
    "        \n",
    "        if cur == None:\n",
    "            return\n",
    "        \n",
    "        while cur.next != None:\n",
    "            cur = cur.next\n",
    "            size +=1\n",
    "            \n",
    "        return size\n",
    "    \n",
    "    def remove_duplicate(self, head):\n",
    "        cur = head.next\n",
    "        prev = head\n",
    "        \n",
    "        if prev == None and cur == None:\n",
    "            return prev\n",
    "        \n",
    "        while cur:\n",
    "            if cur.data == prev.data:\n",
    "                prev.next = cur.next\n",
    "                cur = prev.next\n",
    "            else:\n",
    "                cur = cur.next\n",
    "                prev= prev.next\n",
    "        \n",
    "        return head\n",
    "    \n",
    "    def isPalindrome(self, head):\n",
    "        #code here\n",
    "        if head == None or head.next == None:\n",
    "            return 1\n",
    "            \n",
    "        mid = head\n",
    "        fast = head\n",
    "        \n",
    "        while fast.next and fast.next.next:\n",
    "            fast = fast.next.next\n",
    "            mid = mid.next\n",
    "            \n",
    "        perv = mid\n",
    "        cur = prev.next\n",
    "        \n",
    "        while cur:\n",
    "            next = cur.next\n",
    "            cur.next = prev\n",
    "            \n",
    "            prev = cur\n",
    "            cur = next\n",
    "        \n",
    "        mid.next = None\n",
    "        second_half = perv\n",
    "        \n",
    "        first_half = head\n",
    "        \n",
    "        while second_half and first_half:\n",
    "            if second_half.data != first_half.data:\n",
    "                return 0\n",
    "                \n",
    "            second_half = second_half.next\n",
    "            first_half = first_half.next\n",
    "            \n",
    "        return 1\n",
    "    \n",
    "    def add_one(self, head):\n",
    "        last_node = self.reverse_node_pali(head)\n",
    "        \n",
    "        last_node.data += 1\n",
    "        last_node.data %= 10   \n",
    "        \n",
    "        if last_node.data == 0:\n",
    "            cur = last_node\n",
    "            while cur.data == 0:\n",
    "                if cur.next == None:\n",
    "                    cur.next = Node(1)\n",
    "                else:\n",
    "                    cur.next.data += 1\n",
    "                    cur.next.data %= 10\n",
    "                cur = cur.next\n",
    "            \n",
    "        return self.reverse_node_pali(last_node)\n",
    "    \n",
    "    def seq_rev(self, head, k):\n",
    "        ret_list = Node(-1)\n",
    "        temp_ret = ret_list\n",
    "        cur = head\n",
    "        if cur == None or cur.next == None:\n",
    "            return\n",
    "        \n",
    "        while cur:\n",
    "            new_list = Node(-1)\n",
    "            temp = new_list\n",
    "            for i in range(k):\n",
    "                if cur == None:\n",
    "                    break;\n",
    "                temp.next = Node(cur.data)\n",
    "                temp = temp.next\n",
    "                cur = cur.next  \n",
    "            \n",
    "            temp_ret.next = self.reverse_node_pali(new_list.next)\n",
    "            while temp_ret.next:\n",
    "                temp_ret = temp_ret.next\n",
    "            \n",
    "        return ret_list.next\n",
    "    \n",
    "    def swap_pair(self, head):\n",
    "        if head == None or head.next == None:\n",
    "            return head\n",
    "        \n",
    "        temp = head\n",
    "        head = head.next\n",
    "        temp.next = head.next\n",
    "        head.next = temp    \n",
    "        cur = head.next.next\n",
    "        prev = head.next\n",
    "        \n",
    "        while cur and cur.next:\n",
    "            temp = cur\n",
    "            prev.next = cur.next\n",
    "            cur = prev.next\n",
    "            temp.next = cur.next\n",
    "            cur.next = temp\n",
    "            prev = cur.next\n",
    "            cur = cur.next.next\n",
    "        \n",
    "        return head\n",
    "        \n",
    "ll = Linked_list()\n",
    "ll.add_first(\"u\")\n",
    "ll.add_first(\"h\")\n",
    "ll.add_last(\"z\")\n",
    "# ll.add_last(\"e\")\n",
    "# ll.add_last(\"f\")\n",
    "# ll.add_last(\"a\")\n",
    "# ll.add_last(\"s\")\n",
    "# ll.add_last(\"z\")\n",
    "# ll.add_first(1)\n",
    "# ll.add_first(1)\n",
    "# ll.add_last(1)\n",
    "\n",
    "# ll.head = ll.reverse_list_recur(ll.head)"
   ]
  },
  {
   "cell_type": "code",
   "execution_count": 448,
   "id": "5f69e614",
   "metadata": {},
   "outputs": [
    {
     "name": "stdout",
     "output_type": "stream",
     "text": [
      "h --> u --> z --> None\n"
     ]
    }
   ],
   "source": [
    "ll.print_list()"
   ]
  },
  {
   "cell_type": "code",
   "execution_count": 449,
   "id": "6d52b5ea",
   "metadata": {},
   "outputs": [],
   "source": [
    "ll.head = ll.swap_pair(ll.head)"
   ]
  },
  {
   "cell_type": "code",
   "execution_count": 450,
   "id": "8238143f",
   "metadata": {},
   "outputs": [
    {
     "name": "stdout",
     "output_type": "stream",
     "text": [
      "u --> h --> z --> None\n"
     ]
    }
   ],
   "source": [
    "ll.print_list()"
   ]
  },
  {
   "cell_type": "code",
   "execution_count": 336,
   "id": "65cd2b3f",
   "metadata": {},
   "outputs": [],
   "source": [
    "new_list = Linked_list()\n",
    "new_list.head = ll.seq_rev(ll.head, 3) "
   ]
  },
  {
   "cell_type": "code",
   "execution_count": 337,
   "id": "97bfdc6b",
   "metadata": {},
   "outputs": [
    {
     "name": "stdout",
     "output_type": "stream",
     "text": [
      "1 --> 1 --> 1 --> None\n"
     ]
    }
   ],
   "source": [
    "new_list.print_list()"
   ]
  },
  {
   "cell_type": "code",
   "execution_count": 261,
   "id": "4af7e1db",
   "metadata": {},
   "outputs": [],
   "source": [
    "ll_add = Linked_list()"
   ]
  },
  {
   "cell_type": "code",
   "execution_count": 262,
   "id": "e9758bbf",
   "metadata": {},
   "outputs": [],
   "source": [
    "ll_add.add_last(9)\n",
    "ll_add.add_last(9)\n",
    "ll_add.add_last(9)\n",
    "ll_add.add_last(9)"
   ]
  },
  {
   "cell_type": "code",
   "execution_count": 263,
   "id": "c751f102",
   "metadata": {},
   "outputs": [],
   "source": [
    "ll_add.head = ll_add.add_one(ll_add.head)"
   ]
  },
  {
   "cell_type": "code",
   "execution_count": 264,
   "id": "44a384fe",
   "metadata": {},
   "outputs": [
    {
     "name": "stdout",
     "output_type": "stream",
     "text": [
      "1 --> 0 --> 0 --> 0 --> 0 --> None\n"
     ]
    }
   ],
   "source": [
    "ll_add.print_list()"
   ]
  },
  {
   "cell_type": "code",
   "execution_count": 265,
   "id": "5a5bd2d0",
   "metadata": {},
   "outputs": [
    {
     "name": "stdout",
     "output_type": "stream",
     "text": [
      "h --> u --> z --> e --> f --> a --> None\n"
     ]
    }
   ],
   "source": [
    "ll.print_list()"
   ]
  },
  {
   "cell_type": "code",
   "execution_count": 266,
   "id": "1a27e35f",
   "metadata": {},
   "outputs": [],
   "source": [
    "ll.head.next.next = ll.reverse_node_pali(ll.head.next.next) "
   ]
  },
  {
   "cell_type": "code",
   "execution_count": 306,
   "id": "8cfff2c0",
   "metadata": {},
   "outputs": [
    {
     "name": "stdout",
     "output_type": "stream",
     "text": [
      "h --> u --> z --> e --> f --> a --> None\n"
     ]
    }
   ],
   "source": [
    "ll.print_list()"
   ]
  },
  {
   "cell_type": "code",
   "execution_count": 339,
   "id": "f69249c1",
   "metadata": {},
   "outputs": [],
   "source": [
    "def get_size(arr):\n",
    "    cur = 0\n",
    "    count = 0\n",
    "    while cur < len(arr):\n",
    "        cur += 1\n",
    "        count+=1\n",
    "        \n",
    "    return count"
   ]
  },
  {
   "cell_type": "code",
   "execution_count": 340,
   "id": "6f067ab1",
   "metadata": {},
   "outputs": [
    {
     "data": {
      "text/plain": [
       "4"
      ]
     },
     "execution_count": 340,
     "metadata": {},
     "output_type": "execute_result"
    }
   ],
   "source": [
    "get_size([1,2,3,4])"
   ]
  },
  {
   "cell_type": "code",
   "execution_count": 389,
   "id": "ec53431e",
   "metadata": {},
   "outputs": [],
   "source": [
    "def get_nth(arr):\n",
    "    new_arr = []\n",
    "    cur = 0\n",
    "    prev = None\n",
    "    count = 1\n",
    "    while cur < len(arr):\n",
    "        if count % 2 != 0:\n",
    "            new_arr.append(arr[cur])\n",
    "        prev = cur\n",
    "        cur += 1\n",
    "        count+=1\n",
    "        \n",
    "    return new_arr"
   ]
  },
  {
   "cell_type": "code",
   "execution_count": 390,
   "id": "6f7f8153",
   "metadata": {},
   "outputs": [
    {
     "data": {
      "text/plain": [
       "[52, 100, 66]"
      ]
     },
     "execution_count": 390,
     "metadata": {},
     "output_type": "execute_result"
    }
   ],
   "source": [
    "get_nth([52, 55, 100, 33, 66 ])"
   ]
  },
  {
   "cell_type": "code",
   "execution_count": 383,
   "id": "a2005f35",
   "metadata": {},
   "outputs": [
    {
     "data": {
      "text/plain": [
       "2"
      ]
     },
     "execution_count": 383,
     "metadata": {},
     "output_type": "execute_result"
    }
   ],
   "source": [
    "(5 + 3 -1) // 3"
   ]
  },
  {
   "cell_type": "code",
   "execution_count": 399,
   "id": "cefc8b6a",
   "metadata": {},
   "outputs": [
    {
     "data": {
      "text/plain": [
       "0"
      ]
     },
     "execution_count": 399,
     "metadata": {},
     "output_type": "execute_result"
    }
   ],
   "source": [
    "(3 // 4 ) * 4"
   ]
  },
  {
   "cell_type": "code",
   "execution_count": null,
   "id": "d88e0fff",
   "metadata": {},
   "outputs": [],
   "source": [
    "def removeDup(arr):\n",
    "    unq = set()\n",
    "    cur = 0\n",
    "    \n",
    "    while cur < len(arr):\n",
    "        if cur.data in set"
   ]
  },
  {
   "cell_type": "code",
   "execution_count": null,
   "id": "1e1c14a9",
   "metadata": {},
   "outputs": [],
   "source": []
  }
 ],
 "metadata": {
  "kernelspec": {
   "display_name": "Python 3 (ipykernel)",
   "language": "python",
   "name": "python3"
  },
  "language_info": {
   "codemirror_mode": {
    "name": "ipython",
    "version": 3
   },
   "file_extension": ".py",
   "mimetype": "text/x-python",
   "name": "python",
   "nbconvert_exporter": "python",
   "pygments_lexer": "ipython3",
   "version": "3.11.2"
  }
 },
 "nbformat": 4,
 "nbformat_minor": 5
}

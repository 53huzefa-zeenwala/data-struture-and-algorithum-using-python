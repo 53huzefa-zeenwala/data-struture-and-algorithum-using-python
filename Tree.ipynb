{
 "cells": [
  {
   "cell_type": "code",
   "execution_count": 1,
   "id": "2c8c1752",
   "metadata": {},
   "outputs": [],
   "source": [
    "class Node:\n",
    "    def __init__(self, data):\n",
    "        self.data = data\n",
    "        self.left = None\n",
    "        self.right = None"
   ]
  },
  {
   "cell_type": "code",
   "execution_count": 380,
   "id": "cb364a05",
   "metadata": {},
   "outputs": [],
   "source": [
    "class BT:\n",
    "    idx = -1\n",
    "    def __init__(self, root=None):\n",
    "        self.root = root\n",
    "        \n",
    "    def add_node(self, data):\n",
    "        new_node = Node(data)\n",
    "        if self.root == None:\n",
    "            self.root = new_node\n",
    "            return\n",
    "        \n",
    "        q = [self.root]\n",
    "        \n",
    "        while q != []:\n",
    "            cur = q.pop(0)\n",
    "            \n",
    "            if cur.left == None:\n",
    "                cur.left = new_node\n",
    "                break;\n",
    "            if cur.right == None:\n",
    "                cur.right = new_node\n",
    "                break\n",
    "            \n",
    "            q.append(cur.left)\n",
    "            q.append(cur.right)\n",
    "            \n",
    "    def add_node_arr(self, arr):\n",
    "        self.idx += 1\n",
    "        \n",
    "        if arr[self.idx] == -1:\n",
    "            return None\n",
    "        \n",
    "        new_node = Node(arr[self.idx])\n",
    "        \n",
    "        new_node.left = self.add_node_arr(arr)\n",
    "        new_node.right = self.add_node_arr(arr)\n",
    "        \n",
    "        return new_node\n",
    "    \n",
    "    def preorder(self, root, arr=[]):\n",
    "        if root == None:\n",
    "            return\n",
    "        \n",
    "        arr.append(root.data)\n",
    "        \n",
    "        self.preorder(root.left, arr)\n",
    "        self.preorder(root.right, arr)\n",
    "        \n",
    "        return arr\n",
    "    \n",
    "    def inorder(self, root, arr=[]):\n",
    "        if root == None:\n",
    "            return\n",
    "        \n",
    "        self.inorder(root.left, arr)\n",
    "        arr.append(root.data)\n",
    "        self.inorder(root.right, arr)\n",
    "        \n",
    "        return arr\n",
    "    \n",
    "    def postorder(self, root, arr=[]):\n",
    "        if root == None:\n",
    "            return\n",
    "        \n",
    "        self.postorder(root.left, arr)\n",
    "        self.postorder(root.right, arr)\n",
    "        \n",
    "        arr.append(root.data)\n",
    "        \n",
    "        return arr\n",
    "    \n",
    "    def level_order(self, root, arr=[]):\n",
    "        q = [root]\n",
    "        \n",
    "        while q != []:\n",
    "            cur = q.pop(0)\n",
    "            arr.append(cur.data)\n",
    "            \n",
    "            if cur.left != None:\n",
    "                q.append(cur.left)\n",
    "            if cur.right != None:\n",
    "                q.append(cur.right)\n",
    "            \n",
    "            \n",
    "        return arr\n",
    "    \n",
    "    def count_node(self, root):\n",
    "        if root == None:\n",
    "            return 0\n",
    "        \n",
    "        left_count = self.count_node(root.left)\n",
    "        right_count = self.count_node(root.right)\n",
    "        \n",
    "        return left_count + right_count + 1\n",
    "    \n",
    "    def sum_node(self, root):\n",
    "        if root == None:\n",
    "            return 0\n",
    "        \n",
    "        left_sum = self.sum_node(root.left)\n",
    "        right_sum = self.sum_node(root.right)\n",
    "        \n",
    "        return left_sum + right_sum + root.data\n",
    "    \n",
    "    def tree_height(self, root):\n",
    "        if root == None:\n",
    "            return 0\n",
    "        \n",
    "        left_height = self.tree_height(root.left)\n",
    "        right_height = self.tree_height(root.right)\n",
    "        \n",
    "        if left_height > right_height:\n",
    "            return left_height + 1\n",
    "        else:\n",
    "            return right_height + 1\n",
    "    \n",
    "    # for time complexity of n^2\n",
    "    def diameter_node_1f(self, root):\n",
    "        if root == None:\n",
    "            return 0\n",
    "        \n",
    "        left_diameter = self.diameter_node_1f(root.left)\n",
    "        right_diameter = self.diameter_node_1f(root.right)\n",
    "        height = self.tree_height(root.left) + self.tree_height(root.right) + 1\n",
    "        \n",
    "        return max(height, left_diameter, right_diameter)\n",
    "    \n",
    "    # for time complexity of n\n",
    "    def diameter_node_2f(self, root):\n",
    "        if root == None:\n",
    "            return 0, 0\n",
    "        \n",
    "        left = self.diameter_node_2f(root.left)\n",
    "        right = self.diameter_node_2f(root.right)\n",
    "        my_height = max(left[0], right[0]) + 1\n",
    "        \n",
    "        dia = left[0] + right[0] + 1\n",
    "        \n",
    "        return my_height, max(dia, left[1], right[1])\n",
    "    \n",
    "    def get_min(self, root):\n",
    "        if root == None:\n",
    "            return -1\n",
    "        \n",
    "        left_min = self.get_min(root.left)\n",
    "        right_min = self.get_min(root.right)\n",
    "        \n",
    "        if left_min == -1 and right_min == -1:\n",
    "            return root.data\n",
    "        \n",
    "        elif left_min == -1:\n",
    "            return min(root.data, right_min)\n",
    "        \n",
    "        elif right_min == -1:\n",
    "            return min(root.data, left_min)\n",
    "        \n",
    "        else:\n",
    "            return min(root.data, left_min, right_min)\n",
    "        \n",
    "    def leaves_count(self, root):\n",
    "        if root == None:\n",
    "            return 0\n",
    "        \n",
    "        left_leaves = self.leaves_count(root.left)\n",
    "        right_leaves = self.leaves_count(root.right)\n",
    "        \n",
    "        if left_leaves == 0 and right_leaves == 0:\n",
    "            return 1\n",
    "        else:\n",
    "            return left_leaves + right_leaves\n",
    "        \n",
    "    def sum_node_at_k(self, root, k):\n",
    "        q = [root, None]\n",
    "        sum = 0\n",
    "        while q != []:\n",
    "            cur = q.pop(0)\n",
    "            if cur == None:\n",
    "                k -= 1\n",
    "                if k == 0:\n",
    "                    return sum\n",
    "                \n",
    "                sum = 0\n",
    "                q.append(None)\n",
    "            else:\n",
    "                sum += cur.data\n",
    "                if cur.left != None:\n",
    "                    q.append(cur.left)\n",
    "                if cur.right != None:\n",
    "                    q.append(cur.right)\n",
    "                    \n",
    "        return 0\n",
    "    \n",
    "    def count_non_leaves(self, root):\n",
    "        if root == None:\n",
    "            return 0\n",
    "        \n",
    "        if root.left == None and root.right == None:\n",
    "            return 0\n",
    "        \n",
    "        if root.left == None:\n",
    "            right_count = self.count_non_leaves(root.right)\n",
    "            return right_count + 1\n",
    "            \n",
    "        if root.right == None:\n",
    "            left_count = self.count_non_leaves(root.left)\n",
    "            return left_count + 1\n",
    "        \n",
    "        left_count = self.count_non_leaves(root.left)\n",
    "        right_count = self.count_non_leaves(root.right)\n",
    "         \n",
    "        \n",
    "        return right_count + left_count + 1"
   ]
  },
  {
   "cell_type": "code",
   "execution_count": 381,
   "id": "5501e2c0",
   "metadata": {},
   "outputs": [],
   "source": [
    "new_bst = BT()\n",
    "new_bst.add_node(0)\n",
    "new_bst.add_node(1)\n",
    "new_bst.add_node(2)\n",
    "new_bst.add_node(3)\n",
    "new_bst.add_node(4)\n",
    "new_bst.add_node(5)\n",
    "new_bst.add_node(6)\n",
    "new_bst.add_node(7)"
   ]
  },
  {
   "cell_type": "code",
   "execution_count": 374,
   "id": "04a78a5b",
   "metadata": {},
   "outputs": [
    {
     "data": {
      "text/plain": [
       "[0, 1, 2, 3, 4, 5, 6, 7]"
      ]
     },
     "execution_count": 374,
     "metadata": {},
     "output_type": "execute_result"
    }
   ],
   "source": [
    "new_bst.level_order(new_bst.root)"
   ]
  },
  {
   "cell_type": "code",
   "execution_count": 375,
   "id": "dc087696",
   "metadata": {},
   "outputs": [
    {
     "data": {
      "text/plain": [
       "7"
      ]
     },
     "execution_count": 375,
     "metadata": {},
     "output_type": "execute_result"
    }
   ],
   "source": [
    "new_bst.sum_node_at_k(new_bst.root, 4)"
   ]
  },
  {
   "cell_type": "code",
   "execution_count": 382,
   "id": "01acfb04",
   "metadata": {},
   "outputs": [],
   "source": [
    "bst = BT()"
   ]
  },
  {
   "cell_type": "code",
   "execution_count": 377,
   "id": "1c18fdda",
   "metadata": {},
   "outputs": [],
   "source": [
    "bst.root = bst.add_node_arr([1,2,4,-1,-1,5,-1,-1,3,-1,-1])"
   ]
  },
  {
   "cell_type": "code",
   "execution_count": 378,
   "id": "2677bb91",
   "metadata": {},
   "outputs": [
    {
     "data": {
      "text/plain": [
       "3"
      ]
     },
     "execution_count": 378,
     "metadata": {},
     "output_type": "execute_result"
    }
   ],
   "source": [
    "bst.leaves_count(bst.root)"
   ]
  },
  {
   "cell_type": "code",
   "execution_count": 379,
   "id": "d16c43cc",
   "metadata": {},
   "outputs": [
    {
     "data": {
      "text/plain": [
       "2"
      ]
     },
     "execution_count": 379,
     "metadata": {},
     "output_type": "execute_result"
    }
   ],
   "source": [
    "bst.count_non_leaves(bst.root)"
   ]
  },
  {
   "cell_type": "code",
   "execution_count": 333,
   "id": "24fd80c7",
   "metadata": {},
   "outputs": [
    {
     "data": {
      "text/plain": [
       "1"
      ]
     },
     "execution_count": 333,
     "metadata": {},
     "output_type": "execute_result"
    }
   ],
   "source": [
    "bst.get_min(bst.root)"
   ]
  },
  {
   "cell_type": "code",
   "execution_count": 334,
   "id": "9ff74db2",
   "metadata": {},
   "outputs": [
    {
     "data": {
      "text/plain": [
       "15"
      ]
     },
     "execution_count": 334,
     "metadata": {},
     "output_type": "execute_result"
    }
   ],
   "source": [
    "bst.sum_node_at_k(bst.root, 3)"
   ]
  },
  {
   "cell_type": "code",
   "execution_count": 335,
   "id": "3395acfe",
   "metadata": {},
   "outputs": [
    {
     "data": {
      "text/plain": [
       "5"
      ]
     },
     "execution_count": 335,
     "metadata": {},
     "output_type": "execute_result"
    }
   ],
   "source": [
    "bst.diameter_node_1f(bst.root)"
   ]
  },
  {
   "cell_type": "code",
   "execution_count": 287,
   "id": "ae419fc3",
   "metadata": {},
   "outputs": [
    {
     "data": {
      "text/plain": [
       "(3, 5)"
      ]
     },
     "execution_count": 287,
     "metadata": {},
     "output_type": "execute_result"
    }
   ],
   "source": [
    "bst.diameter_node_2f(bst.root)"
   ]
  },
  {
   "cell_type": "code",
   "execution_count": 288,
   "id": "c86a5564",
   "metadata": {},
   "outputs": [
    {
     "data": {
      "text/plain": [
       "[1, 2, 4, 5, 3, 6]"
      ]
     },
     "execution_count": 288,
     "metadata": {},
     "output_type": "execute_result"
    }
   ],
   "source": [
    "bst.preorder(bst.root)"
   ]
  },
  {
   "cell_type": "code",
   "execution_count": 289,
   "id": "494fcb43",
   "metadata": {},
   "outputs": [
    {
     "data": {
      "text/plain": [
       "[4, 2, 5, 1, 6, 3]"
      ]
     },
     "execution_count": 289,
     "metadata": {},
     "output_type": "execute_result"
    }
   ],
   "source": [
    "bst.inorder(bst.root)"
   ]
  },
  {
   "cell_type": "code",
   "execution_count": 290,
   "id": "d6eb072f",
   "metadata": {},
   "outputs": [
    {
     "data": {
      "text/plain": [
       "[4, 5, 2, 6, 3, 1]"
      ]
     },
     "execution_count": 290,
     "metadata": {},
     "output_type": "execute_result"
    }
   ],
   "source": [
    "bst.postorder(bst.root)"
   ]
  },
  {
   "cell_type": "code",
   "execution_count": 291,
   "id": "0028b1ee",
   "metadata": {},
   "outputs": [
    {
     "name": "stdout",
     "output_type": "stream",
     "text": [
      "[]\n",
      "[3]\n",
      "[4, 5]\n",
      "[5, 6]\n",
      "[6]\n",
      "[]\n"
     ]
    },
    {
     "data": {
      "text/plain": [
       "[1, 2, 3, 4, 5, 6]"
      ]
     },
     "execution_count": 291,
     "metadata": {},
     "output_type": "execute_result"
    }
   ],
   "source": [
    "bst.level_order(bst.root)"
   ]
  },
  {
   "cell_type": "code",
   "execution_count": 186,
   "id": "fe2f3164",
   "metadata": {},
   "outputs": [
    {
     "data": {
      "text/plain": [
       "7"
      ]
     },
     "execution_count": 186,
     "metadata": {},
     "output_type": "execute_result"
    }
   ],
   "source": [
    "bst.count_node(bst.root)"
   ]
  },
  {
   "cell_type": "code",
   "execution_count": 187,
   "id": "b0f85529",
   "metadata": {},
   "outputs": [
    {
     "data": {
      "text/plain": [
       "45"
      ]
     },
     "execution_count": 187,
     "metadata": {},
     "output_type": "execute_result"
    }
   ],
   "source": [
    "bst.sum_node(bst.root)"
   ]
  },
  {
   "cell_type": "code",
   "execution_count": 260,
   "id": "21800f16",
   "metadata": {},
   "outputs": [
    {
     "data": {
      "text/plain": [
       "4"
      ]
     },
     "execution_count": 260,
     "metadata": {},
     "output_type": "execute_result"
    }
   ],
   "source": [
    "bst.tree_height(bst.root)"
   ]
  },
  {
   "cell_type": "code",
   "execution_count": 214,
   "id": "21ce5e7e",
   "metadata": {},
   "outputs": [
    {
     "data": {
      "text/plain": [
       "3"
      ]
     },
     "execution_count": 214,
     "metadata": {},
     "output_type": "execute_result"
    }
   ],
   "source": [
    "min(3, 4, 6)"
   ]
  },
  {
   "cell_type": "code",
   "execution_count": 236,
   "id": "eecf20bc",
   "metadata": {},
   "outputs": [
    {
     "data": {
      "text/plain": [
       "True"
      ]
     },
     "execution_count": 236,
     "metadata": {},
     "output_type": "execute_result"
    }
   ],
   "source": [
    "False or True"
   ]
  },
  {
   "cell_type": "code",
   "execution_count": 630,
   "id": "c51a836c",
   "metadata": {},
   "outputs": [],
   "source": [
    "class BST:\n",
    "    def __init__(self, node=None):\n",
    "        self.root = node\n",
    "        \n",
    "    def insert_elem(self, data):\n",
    "        new_node= Node(data)\n",
    "        if self.root == None:\n",
    "            self.root = new_node\n",
    "            return\n",
    "        \n",
    "        q = [self.root]\n",
    "        \n",
    "        while q != []:\n",
    "            cur = q.pop(0)\n",
    "            \n",
    "            if data < cur.data:\n",
    "                if cur.left == None:\n",
    "                    cur.left = new_node\n",
    "                    return\n",
    "                q.append(cur.left)\n",
    "            else:\n",
    "                if cur.right == None:\n",
    "                    cur.right = new_node\n",
    "                    return\n",
    "                q.append(cur.right)\n",
    "                \n",
    "        return \"duplicate\"\n",
    "    \n",
    "    def insert_elem_recur(self, root, data):\n",
    "        if root == None:\n",
    "            root = Node(data)\n",
    "            return root\n",
    "        \n",
    "        if data < root.data:\n",
    "            root.left = self.insert_elem_recur(root.left, data)\n",
    "        else:\n",
    "            root.right = self.insert_elem_recur(root.right, data)\n",
    "            \n",
    "        print(root.data)\n",
    "        return root\n",
    "    \n",
    "    def inorder_traverse(self, root, arr=[]):\n",
    "        if root == None:\n",
    "            return []\n",
    "        print(root.data, \"top\")\n",
    "        \n",
    "        self.inorder_traverse(root.left, arr)\n",
    "        arr.append(root.data)\n",
    "        self.inorder_traverse(root.right, arr)\n",
    "        \n",
    "        return arr     \n",
    "    \n",
    "    def level_order_traversal(self, root, arr=[]):\n",
    "        q = [root]\n",
    "        \n",
    "        while q != []:\n",
    "            cur = q.pop(0)\n",
    "            arr.append(cur.data)\n",
    "            if cur.left:\n",
    "                q.append(cur.left)\n",
    "            if cur.right:\n",
    "                q.append(cur.right)\n",
    "                \n",
    "        return arr\n",
    "    \n",
    "\n",
    "    \n",
    "#     def insert_arr(self, root, value):\n",
    "#         if root == None:\n",
    "            "
   ]
  },
  {
   "cell_type": "code",
   "execution_count": 643,
   "id": "8e0af196",
   "metadata": {},
   "outputs": [],
   "source": [
    "bin_search_tr = BST()"
   ]
  },
  {
   "cell_type": "code",
   "execution_count": 644,
   "id": "d46aae7a",
   "metadata": {},
   "outputs": [],
   "source": [
    "bin_search_tr.insert_elem(10)\n",
    "bin_search_tr.insert_elem(12)\n",
    "bin_search_tr.insert_elem(923)\n",
    "bin_search_tr.insert_elem(124)\n",
    "bin_search_tr.insert_elem(121)\n",
    "bin_search_tr.insert_elem(545)\n",
    "bin_search_tr.insert_elem(92)"
   ]
  },
  {
   "cell_type": "code",
   "execution_count": 645,
   "id": "1842d58f",
   "metadata": {},
   "outputs": [],
   "source": [
    "def reverse_order_traversal(root, k, arr= []):\n",
    "    if root == None:\n",
    "        return []\n",
    "    \n",
    "    reverse_order_traversal(root.right, k, arr)\n",
    "    \n",
    "    if root.data >= k:\n",
    "        arr.append(root.data)\n",
    "        \n",
    "    if root.data <= k:\n",
    "        return arr\n",
    "    \n",
    "    reverse_order_traversal(root.left, k, arr)\n",
    "    \n",
    "    return arr"
   ]
  },
  {
   "cell_type": "code",
   "execution_count": 646,
   "id": "89f3db52",
   "metadata": {},
   "outputs": [
    {
     "data": {
      "text/plain": [
       "[923, 545, 124, 121]"
      ]
     },
     "execution_count": 646,
     "metadata": {},
     "output_type": "execute_result"
    }
   ],
   "source": [
    "reverse_order_traversal(bin_search_tr.root, 121)"
   ]
  },
  {
   "cell_type": "code",
   "execution_count": 621,
   "id": "0e98fc97",
   "metadata": {},
   "outputs": [
    {
     "name": "stdout",
     "output_type": "stream",
     "text": [
      "10 between\n",
      "12 between\n",
      "92 between\n",
      "121 between\n",
      "124 between\n",
      "545 between\n",
      "923 between\n"
     ]
    },
    {
     "data": {
      "text/plain": [
       "[10, 12, 92, 121, 124, 545, 923]"
      ]
     },
     "execution_count": 621,
     "metadata": {},
     "output_type": "execute_result"
    }
   ],
   "source": [
    "bin_search_tr.inorder_traverse(bin_search_tr.root)"
   ]
  },
  {
   "cell_type": "code",
   "execution_count": 588,
   "id": "511736a0",
   "metadata": {},
   "outputs": [
    {
     "data": {
      "text/plain": [
       "[10, 12, 923, 124, 121, 545, 92]"
      ]
     },
     "execution_count": 588,
     "metadata": {},
     "output_type": "execute_result"
    }
   ],
   "source": [
    "bin_search_tr.level_order_traversal(bin_search_tr.root)"
   ]
  },
  {
   "cell_type": "code",
   "execution_count": 544,
   "id": "4317808f",
   "metadata": {},
   "outputs": [],
   "source": [
    "bin_search_tr.root = delete_node(bin_search_tr.root, 545)"
   ]
  },
  {
   "cell_type": "code",
   "execution_count": 543,
   "id": "56d512f8",
   "metadata": {},
   "outputs": [],
   "source": [
    "def delete_node(root, val):\n",
    "    if root.data > val:\n",
    "        root.left = delete_node(root.left, val)\n",
    "    elif root.data < val:\n",
    "        root.right = delete_node(root.right, val)\n",
    "    else:\n",
    "        if root.left == None and root.right == None:\n",
    "            return None\n",
    "        \n",
    "        if root.left == None:\n",
    "            return root.right\n",
    "            \n",
    "        if root.right == None:\n",
    "            return root.left\n",
    "            \n",
    "        inorder_successor = get_inorder_successor(root.right)\n",
    "            \n",
    "        root.data = inorder_successor.data\n",
    "            \n",
    "        root.right = delete_node(root.right, inorder_successor.data)\n",
    "            \n",
    "    return root\n",
    "    \n",
    "def get_inorder_successor(root):\n",
    "        \n",
    "    while root.left != None:\n",
    "        root = root.left\n",
    "            \n",
    "    return root"
   ]
  },
  {
   "cell_type": "code",
   "execution_count": 568,
   "id": "571e3b49",
   "metadata": {},
   "outputs": [],
   "source": [
    "def print_in_range(root, x, y, arr=[]):\n",
    "    if root == None:\n",
    "        return []\n",
    "    if root.data >= x and root.data <= y:\n",
    "        print_in_range(root.left, x, y)\n",
    "        arr.append(root.data)\n",
    "        print_in_range(root.right, x, y)\n",
    "    elif root.data >= y:\n",
    "        print_in_range(root.left, x, y)\n",
    "    else:\n",
    "        print_in_range(root.right, x, y)\n",
    "        \n",
    "    return arr"
   ]
  },
  {
   "cell_type": "code",
   "execution_count": 569,
   "id": "414635df",
   "metadata": {},
   "outputs": [
    {
     "name": "stdout",
     "output_type": "stream",
     "text": [
      "10\n",
      "12\n",
      "923\n",
      "124\n",
      "121\n",
      "92\n",
      "545\n"
     ]
    },
    {
     "data": {
      "text/plain": [
       "[92, 121, 124, 545]"
      ]
     },
     "execution_count": 569,
     "metadata": {},
     "output_type": "execute_result"
    }
   ],
   "source": [
    "print_in_range(bin_search_tr.root, 92, 545)"
   ]
  },
  {
   "cell_type": "code",
   "execution_count": 563,
   "id": "8ea86e89",
   "metadata": {},
   "outputs": [
    {
     "data": {
      "text/plain": [
       "10"
      ]
     },
     "execution_count": 563,
     "metadata": {},
     "output_type": "execute_result"
    }
   ],
   "source": [
    "bin_search_tr.root.data"
   ]
  },
  {
   "cell_type": "code",
   "execution_count": 570,
   "id": "c1e5a663",
   "metadata": {},
   "outputs": [],
   "source": [
    "def root_to_leaf_path(root, arr=[]):\n",
    "    if root == None:\n",
    "        return root\n",
    "    arr.append(root.data)\n",
    "    if root.left:\n",
    "        root_to_leaf_path(root.left, arr)\n",
    "    if root.right:\n",
    "        root_to_leaf_path(root.right, arr)\n",
    "        \n",
    "    if root.left == None and root.right == None:\n",
    "        print(arr)"
   ]
  },
  {
   "cell_type": "code",
   "execution_count": 571,
   "id": "33c3116f",
   "metadata": {},
   "outputs": [
    {
     "name": "stdout",
     "output_type": "stream",
     "text": [
      "[10, 12, 923, 124, 121, 92]\n",
      "[10, 12, 923, 124, 121, 92, 545]\n"
     ]
    }
   ],
   "source": [
    "root_to_leaf_path(bin_search_tr.root)"
   ]
  },
  {
   "cell_type": "code",
   "execution_count": 592,
   "id": "d8241325",
   "metadata": {},
   "outputs": [],
   "source": [
    "bin_search_tr.insert_elem(6)"
   ]
  },
  {
   "cell_type": "code",
   "execution_count": 593,
   "id": "68c7a1e7",
   "metadata": {},
   "outputs": [],
   "source": [
    "bin_search_tr.insert_elem(5)\n",
    "bin_search_tr.insert_elem(9)"
   ]
  },
  {
   "cell_type": "code",
   "execution_count": 594,
   "id": "c76431ee",
   "metadata": {},
   "outputs": [
    {
     "data": {
      "text/plain": [
       "[10,\n",
       " 12,\n",
       " 92,\n",
       " 121,\n",
       " 124,\n",
       " 545,\n",
       " 923,\n",
       " 5,\n",
       " 6,\n",
       " 9,\n",
       " 10,\n",
       " 12,\n",
       " 92,\n",
       " 121,\n",
       " 124,\n",
       " 545,\n",
       " 923,\n",
       " 5,\n",
       " 5,\n",
       " 6,\n",
       " 6,\n",
       " 9,\n",
       " 9,\n",
       " 10,\n",
       " 12,\n",
       " 92,\n",
       " 121,\n",
       " 124,\n",
       " 545,\n",
       " 923]"
      ]
     },
     "execution_count": 594,
     "metadata": {},
     "output_type": "execute_result"
    }
   ],
   "source": [
    "bin_search_tr.inorder_traverse(bin_search_tr.root)"
   ]
  },
  {
   "cell_type": "code",
   "execution_count": 652,
   "id": "52a07a70",
   "metadata": {},
   "outputs": [
    {
     "data": {
      "text/plain": [
       "3"
      ]
     },
     "execution_count": 652,
     "metadata": {},
     "output_type": "execute_result"
    }
   ],
   "source": [
    "int(3.5 // 1)"
   ]
  },
  {
   "cell_type": "code",
   "execution_count": 653,
   "id": "ef599b7c",
   "metadata": {},
   "outputs": [
    {
     "data": {
      "text/plain": [
       "True"
      ]
     },
     "execution_count": 653,
     "metadata": {},
     "output_type": "execute_result"
    }
   ],
   "source": [
    "3.0 == 3"
   ]
  },
  {
   "cell_type": "code",
   "execution_count": null,
   "id": "af787f67",
   "metadata": {},
   "outputs": [],
   "source": []
  }
 ],
 "metadata": {
  "kernelspec": {
   "display_name": "Python 3 (ipykernel)",
   "language": "python",
   "name": "python3"
  },
  "language_info": {
   "codemirror_mode": {
    "name": "ipython",
    "version": 3
   },
   "file_extension": ".py",
   "mimetype": "text/x-python",
   "name": "python",
   "nbconvert_exporter": "python",
   "pygments_lexer": "ipython3",
   "version": "3.11.2"
  }
 },
 "nbformat": 4,
 "nbformat_minor": 5
}
